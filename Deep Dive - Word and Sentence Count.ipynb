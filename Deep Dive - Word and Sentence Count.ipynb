{
 "cells": [
  {
   "cell_type": "markdown",
   "id": "d9a3430d",
   "metadata": {
    "slideshow": {
     "slide_type": "slide"
    }
   },
   "source": [
    "# Word and Sentence Count\n",
    "\n",
    "- How long are texts?\n",
    "- How complex?\n",
    "- Who has the biggest share in a conversation?"
   ]
  },
  {
   "cell_type": "markdown",
   "id": "fd5da2de",
   "metadata": {},
   "source": [
    "# Reading in data"
   ]
  },
  {
   "cell_type": "code",
   "execution_count": 2,
   "id": "d46a8daf",
   "metadata": {},
   "outputs": [
    {
     "name": "stdout",
     "output_type": "stream",
     "text": [
      "Defaulting to user installation because normal site-packages is not writeable\n",
      "Requirement already satisfied: pandas in /home/natalie/.local/lib/python3.9/site-packages (1.5.1)\n",
      "Requirement already satisfied: python-dateutil>=2.8.1 in /home/natalie/.local/lib/python3.9/site-packages (from pandas) (2.8.2)\n",
      "Requirement already satisfied: pytz>=2020.1 in /home/natalie/.local/lib/python3.9/site-packages (from pandas) (2022.6)\n",
      "Requirement already satisfied: numpy>=1.20.3 in /home/natalie/.local/lib/python3.9/site-packages (from pandas) (1.23.4)\n",
      "Requirement already satisfied: six>=1.5 in /usr/lib/python3/dist-packages (from python-dateutil>=2.8.1->pandas) (1.14.0)\n"
     ]
    }
   ],
   "source": [
    "!pip install pandas"
   ]
  },
  {
   "cell_type": "code",
   "execution_count": 3,
   "id": "22774886",
   "metadata": {},
   "outputs": [],
   "source": [
    "import pandas as pd"
   ]
  },
  {
   "cell_type": "code",
   "execution_count": 6,
   "id": "016d0b71",
   "metadata": {},
   "outputs": [],
   "source": [
    "path = './data/parliamentary-questions_2023_sample.csv'\n",
    "data = pd.read_csv(path, index_col=0)"
   ]
  },
  {
   "cell_type": "code",
   "execution_count": 10,
   "id": "0587cb69",
   "metadata": {},
   "outputs": [
    {
     "data": {
      "text/html": [
       "<div>\n",
       "<style scoped>\n",
       "    .dataframe tbody tr th:only-of-type {\n",
       "        vertical-align: middle;\n",
       "    }\n",
       "\n",
       "    .dataframe tbody tr th {\n",
       "        vertical-align: top;\n",
       "    }\n",
       "\n",
       "    .dataframe thead th {\n",
       "        text-align: right;\n",
       "    }\n",
       "</style>\n",
       "<table border=\"1\" class=\"dataframe\">\n",
       "  <thead>\n",
       "    <tr style=\"text-align: right;\">\n",
       "      <th></th>\n",
       "      <th>document_identifier</th>\n",
       "      <th>document_title</th>\n",
       "      <th>document_type</th>\n",
       "      <th>document_date</th>\n",
       "      <th>question_text</th>\n",
       "      <th>answer_text</th>\n",
       "    </tr>\n",
       "    <tr>\n",
       "      <th>Unnamed: 0</th>\n",
       "      <th></th>\n",
       "      <th></th>\n",
       "      <th></th>\n",
       "      <th></th>\n",
       "      <th></th>\n",
       "      <th></th>\n",
       "    </tr>\n",
       "  </thead>\n",
       "  <tbody>\n",
       "    <tr>\n",
       "      <th>0</th>\n",
       "      <td>E-9-2023-000080</td>\n",
       "      <td>Suspension of the payment of funds to Morocco ...</td>\n",
       "      <td>Written question</td>\n",
       "      <td>2023-01-11</td>\n",
       "      <td>PE741.317v01-00Question for written answer E-0...</td>\n",
       "      <td>EN\\nE-000080/2023\\nAnswer given by Mr Várhelyi...</td>\n",
       "    </tr>\n",
       "    <tr>\n",
       "      <th>1</th>\n",
       "      <td>E-9-2023-000114</td>\n",
       "      <td>Shortage of medicines in Greece and the EU</td>\n",
       "      <td>Written question</td>\n",
       "      <td>2023-01-16</td>\n",
       "      <td>PE741.347v01-00Question for written answer E-0...</td>\n",
       "      <td>EN\\nE-000114/2023\\nAnswer given by Ms Kyriakid...</td>\n",
       "    </tr>\n",
       "    <tr>\n",
       "      <th>2</th>\n",
       "      <td>E-9-2023-000012</td>\n",
       "      <td>Declaration of the state of emergency in Peru ...</td>\n",
       "      <td>Written question</td>\n",
       "      <td>2023-01-05</td>\n",
       "      <td>PE741.232v01-00Question for written answer E-0...</td>\n",
       "      <td>EN\\nE-000012/2023\\nAnswer given by High Repres...</td>\n",
       "    </tr>\n",
       "    <tr>\n",
       "      <th>3</th>\n",
       "      <td>E-9-2023-000074</td>\n",
       "      <td>Shortage of medicines</td>\n",
       "      <td>Written question</td>\n",
       "      <td>2023-01-11</td>\n",
       "      <td>PE741.310v01-00Question for written answer E-0...</td>\n",
       "      <td>(English version)\\nQuestion for written answer...</td>\n",
       "    </tr>\n",
       "    <tr>\n",
       "      <th>4</th>\n",
       "      <td>E-9-2023-000034</td>\n",
       "      <td>Emergency interventions to address high energy...</td>\n",
       "      <td>Written question</td>\n",
       "      <td>2023-01-09</td>\n",
       "      <td>PE741.254v01-00Question for written answer E-0...</td>\n",
       "      <td>EN\\nE-000034/2023\\nAnswer given by Ms Simson\\n...</td>\n",
       "    </tr>\n",
       "    <tr>\n",
       "      <th>...</th>\n",
       "      <td>...</td>\n",
       "      <td>...</td>\n",
       "      <td>...</td>\n",
       "      <td>...</td>\n",
       "      <td>...</td>\n",
       "      <td>...</td>\n",
       "    </tr>\n",
       "    <tr>\n",
       "      <th>1498</th>\n",
       "      <td>P-9-2023-001267</td>\n",
       "      <td>EU response to the Egyptian President’s order ...</td>\n",
       "      <td>EP priority written question</td>\n",
       "      <td>2023-04-19</td>\n",
       "      <td>PE747.332v01-00Priority question for written a...</td>\n",
       "      <td>NaN</td>\n",
       "    </tr>\n",
       "    <tr>\n",
       "      <th>1499</th>\n",
       "      <td>P-9-2023-001146</td>\n",
       "      <td>Most efficient installations in the sectors co...</td>\n",
       "      <td>EP priority written question</td>\n",
       "      <td>2023-04-05</td>\n",
       "      <td>PE747.143v02-00Priority question for written a...</td>\n",
       "      <td>NaN</td>\n",
       "    </tr>\n",
       "    <tr>\n",
       "      <th>1500</th>\n",
       "      <td>P-9-2023-001529</td>\n",
       "      <td>Workers’ rights in Myanmar under the MADE in M...</td>\n",
       "      <td>EP priority written question</td>\n",
       "      <td>2023-05-10</td>\n",
       "      <td>PE749.414v01-00Priority question for written a...</td>\n",
       "      <td>NaN</td>\n",
       "    </tr>\n",
       "    <tr>\n",
       "      <th>1501</th>\n",
       "      <td>P-9-2023-001534</td>\n",
       "      <td>The European institution’s support of Islamist...</td>\n",
       "      <td>EP priority written question</td>\n",
       "      <td>2023-05-09</td>\n",
       "      <td>PE749.419v01-00Priority question for written a...</td>\n",
       "      <td>NaN</td>\n",
       "    </tr>\n",
       "    <tr>\n",
       "      <th>1502</th>\n",
       "      <td>P-9-2023-001535</td>\n",
       "      <td>Putting an end to work-related deaths in Europe</td>\n",
       "      <td>EP priority written question</td>\n",
       "      <td>2023-05-10</td>\n",
       "      <td>PE749.420v01-00Priority question for written a...</td>\n",
       "      <td>NaN</td>\n",
       "    </tr>\n",
       "  </tbody>\n",
       "</table>\n",
       "<p>1503 rows × 6 columns</p>\n",
       "</div>"
      ],
      "text/plain": [
       "           document_identifier  \\\n",
       "Unnamed: 0                       \n",
       "0              E-9-2023-000080   \n",
       "1              E-9-2023-000114   \n",
       "2              E-9-2023-000012   \n",
       "3              E-9-2023-000074   \n",
       "4              E-9-2023-000034   \n",
       "...                        ...   \n",
       "1498           P-9-2023-001267   \n",
       "1499           P-9-2023-001146   \n",
       "1500           P-9-2023-001529   \n",
       "1501           P-9-2023-001534   \n",
       "1502           P-9-2023-001535   \n",
       "\n",
       "                                               document_title  \\\n",
       "Unnamed: 0                                                      \n",
       "0           Suspension of the payment of funds to Morocco ...   \n",
       "1                  Shortage of medicines in Greece and the EU   \n",
       "2           Declaration of the state of emergency in Peru ...   \n",
       "3                                       Shortage of medicines   \n",
       "4           Emergency interventions to address high energy...   \n",
       "...                                                       ...   \n",
       "1498        EU response to the Egyptian President’s order ...   \n",
       "1499        Most efficient installations in the sectors co...   \n",
       "1500        Workers’ rights in Myanmar under the MADE in M...   \n",
       "1501        The European institution’s support of Islamist...   \n",
       "1502          Putting an end to work-related deaths in Europe   \n",
       "\n",
       "                           document_type document_date  \\\n",
       "Unnamed: 0                                               \n",
       "0                       Written question    2023-01-11   \n",
       "1                       Written question    2023-01-16   \n",
       "2                       Written question    2023-01-05   \n",
       "3                       Written question    2023-01-11   \n",
       "4                       Written question    2023-01-09   \n",
       "...                                  ...           ...   \n",
       "1498        EP priority written question    2023-04-19   \n",
       "1499        EP priority written question    2023-04-05   \n",
       "1500        EP priority written question    2023-05-10   \n",
       "1501        EP priority written question    2023-05-09   \n",
       "1502        EP priority written question    2023-05-10   \n",
       "\n",
       "                                                question_text  \\\n",
       "Unnamed: 0                                                      \n",
       "0           PE741.317v01-00Question for written answer E-0...   \n",
       "1           PE741.347v01-00Question for written answer E-0...   \n",
       "2           PE741.232v01-00Question for written answer E-0...   \n",
       "3           PE741.310v01-00Question for written answer E-0...   \n",
       "4           PE741.254v01-00Question for written answer E-0...   \n",
       "...                                                       ...   \n",
       "1498        PE747.332v01-00Priority question for written a...   \n",
       "1499        PE747.143v02-00Priority question for written a...   \n",
       "1500        PE749.414v01-00Priority question for written a...   \n",
       "1501        PE749.419v01-00Priority question for written a...   \n",
       "1502        PE749.420v01-00Priority question for written a...   \n",
       "\n",
       "                                                  answer_text  \n",
       "Unnamed: 0                                                     \n",
       "0           EN\\nE-000080/2023\\nAnswer given by Mr Várhelyi...  \n",
       "1           EN\\nE-000114/2023\\nAnswer given by Ms Kyriakid...  \n",
       "2           EN\\nE-000012/2023\\nAnswer given by High Repres...  \n",
       "3           (English version)\\nQuestion for written answer...  \n",
       "4           EN\\nE-000034/2023\\nAnswer given by Ms Simson\\n...  \n",
       "...                                                       ...  \n",
       "1498                                                      NaN  \n",
       "1499                                                      NaN  \n",
       "1500                                                      NaN  \n",
       "1501                                                      NaN  \n",
       "1502                                                      NaN  \n",
       "\n",
       "[1503 rows x 6 columns]"
      ]
     },
     "execution_count": 10,
     "metadata": {},
     "output_type": "execute_result"
    }
   ],
   "source": [
    "data"
   ]
  },
  {
   "cell_type": "markdown",
   "id": "caf4ce7a",
   "metadata": {},
   "source": [
    "# Word Count"
   ]
  },
  {
   "cell_type": "code",
   "execution_count": 42,
   "id": "6b873966",
   "metadata": {},
   "outputs": [
    {
     "data": {
      "text/plain": [
       "'EN\\nE-000080/2023\\nAnswer given by Mr Várhelyi\\non behalf of the European Commission\\n(15.3.2023)\\n1. The EU’s cooperation with third countries is mainly financed under the Neighbourhood, \\nDevelopment and International Cooperation Instrument (NDICI) – Global Europe1 \\ninstrument. This instrument includes robust control mechanisms, such as audits, that enable \\nthe Commission overseeing EU funded actions in partner countries, such as the Kingdom of \\nMorocco. In this context, the Commission is not aware of any entities or projects funded by \\nthe EU in Morocco under the NDICI instrument that have been subject to investigation in \\nrelation to the alleged case mentioned by the Honourable Member.\\n2. The NDICI instrument, which is part of the multiannual financial framework (MFF), is \\nspecifically designed to uphold and promote the EU’s values, principles and fundamental \\ninterests worldwide, in line with the objectives and principles of the EU’s external action. \\nOther political priorities such as economic recovery and financial support to small and \\nmedium-sized enterprises in the Member States are supported and financed under other \\nspecific instruments.\\n1 Regulation (EU) 2021/947 of the European Parliament and of the Council of 9 June 2021 establishing the \\nNeighbourhood, Development and International Cooperation Instrument – Global Europe, amending and \\nrepealing Decision No 466/2014/EU of the European Parliament and of the Council and repealing Regulation \\n(EU) 2017/1601 of the European Parliament and of the Council and Council Regulation (EC, Euratom) No \\n480/2009, https://eur-lex.europa.eu/legal-content/EN/TXT/?uri=CELEX%3A02021R0947-20210614'"
      ]
     },
     "execution_count": 42,
     "metadata": {},
     "output_type": "execute_result"
    }
   ],
   "source": [
    "sample_answer = data['answer_text'].values[0]\n",
    "sample_answer"
   ]
  },
  {
   "cell_type": "code",
   "execution_count": 43,
   "id": "a7919484",
   "metadata": {},
   "outputs": [
    {
     "name": "stdout",
     "output_type": "stream",
     "text": [
      "EN\n",
      "E-000080/2023\n",
      "Answer given by Mr Várhelyi\n",
      "on behalf of the European Commission\n",
      "(15.3.2023)\n",
      "1. The EU’s cooperation with third countries is mainly financed under the Neighbourhood, \n",
      "Development and International Cooperation Instrument (NDICI) – Global Europe1 \n",
      "instrument. This instrument includes robust control mechanisms, such as audits, that enable \n",
      "the Commission overseeing EU funded actions in partner countries, such as the Kingdom of \n",
      "Morocco. In this context, the Commission is not aware of any entities or projects funded by \n",
      "the EU in Morocco under the NDICI instrument that have been subject to investigation in \n",
      "relation to the alleged case mentioned by the Honourable Member.\n",
      "2. The NDICI instrument, which is part of the multiannual financial framework (MFF), is \n",
      "specifically designed to uphold and promote the EU’s values, principles and fundamental \n",
      "interests worldwide, in line with the objectives and principles of the EU’s external action. \n",
      "Other political priorities such as economic recovery and financial support to small and \n",
      "medium-sized enterprises in the Member States are supported and financed under other \n",
      "specific instruments.\n",
      "1 Regulation (EU) 2021/947 of the European Parliament and of the Council of 9 June 2021 establishing the \n",
      "Neighbourhood, Development and International Cooperation Instrument – Global Europe, amending and \n",
      "repealing Decision No 466/2014/EU of the European Parliament and of the Council and repealing Regulation \n",
      "(EU) 2017/1601 of the European Parliament and of the Council and Council Regulation (EC, Euratom) No \n",
      "480/2009, https://eur-lex.europa.eu/legal-content/EN/TXT/?uri=CELEX%3A02021R0947-20210614\n"
     ]
    }
   ],
   "source": [
    "print(sample_answer)"
   ]
  },
  {
   "cell_type": "code",
   "execution_count": 27,
   "id": "a0b0ff51",
   "metadata": {},
   "outputs": [
    {
     "data": {
      "text/plain": [
       "['EN',\n",
       " 'E-000080/2023',\n",
       " 'Answer',\n",
       " 'given',\n",
       " 'by',\n",
       " 'Mr',\n",
       " 'Várhelyi',\n",
       " 'on',\n",
       " 'behalf',\n",
       " 'of',\n",
       " 'the',\n",
       " 'European',\n",
       " 'Commission',\n",
       " '(15.3.2023)',\n",
       " '1.',\n",
       " 'The',\n",
       " 'EU’s',\n",
       " 'cooperation',\n",
       " 'with',\n",
       " 'third',\n",
       " 'countries',\n",
       " 'is',\n",
       " 'mainly',\n",
       " 'financed',\n",
       " 'under',\n",
       " 'the',\n",
       " 'Neighbourhood,',\n",
       " 'Development',\n",
       " 'and',\n",
       " 'International',\n",
       " 'Cooperation',\n",
       " 'Instrument',\n",
       " '(NDICI)',\n",
       " '–',\n",
       " 'Global',\n",
       " 'Europe1',\n",
       " 'instrument.',\n",
       " 'This',\n",
       " 'instrument',\n",
       " 'includes',\n",
       " 'robust',\n",
       " 'control',\n",
       " 'mechanisms,',\n",
       " 'such',\n",
       " 'as',\n",
       " 'audits,',\n",
       " 'that',\n",
       " 'enable',\n",
       " 'the',\n",
       " 'Commission',\n",
       " 'overseeing',\n",
       " 'EU',\n",
       " 'funded',\n",
       " 'actions',\n",
       " 'in',\n",
       " 'partner',\n",
       " 'countries,',\n",
       " 'such',\n",
       " 'as',\n",
       " 'the',\n",
       " 'Kingdom',\n",
       " 'of',\n",
       " 'Morocco.',\n",
       " 'In',\n",
       " 'this',\n",
       " 'context,',\n",
       " 'the',\n",
       " 'Commission',\n",
       " 'is',\n",
       " 'not',\n",
       " 'aware',\n",
       " 'of',\n",
       " 'any',\n",
       " 'entities',\n",
       " 'or',\n",
       " 'projects',\n",
       " 'funded',\n",
       " 'by',\n",
       " 'the',\n",
       " 'EU',\n",
       " 'in',\n",
       " 'Morocco',\n",
       " 'under',\n",
       " 'the',\n",
       " 'NDICI',\n",
       " 'instrument',\n",
       " 'that',\n",
       " 'have',\n",
       " 'been',\n",
       " 'subject',\n",
       " 'to',\n",
       " 'investigation',\n",
       " 'in',\n",
       " 'relation',\n",
       " 'to',\n",
       " 'the',\n",
       " 'alleged',\n",
       " 'case',\n",
       " 'mentioned',\n",
       " 'by',\n",
       " 'the',\n",
       " 'Honourable',\n",
       " 'Member.',\n",
       " '2.',\n",
       " 'The',\n",
       " 'NDICI',\n",
       " 'instrument,',\n",
       " 'which',\n",
       " 'is',\n",
       " 'part',\n",
       " 'of',\n",
       " 'the',\n",
       " 'multiannual',\n",
       " 'financial',\n",
       " 'framework',\n",
       " '(MFF),',\n",
       " 'is',\n",
       " 'specifically',\n",
       " 'designed',\n",
       " 'to',\n",
       " 'uphold',\n",
       " 'and',\n",
       " 'promote',\n",
       " 'the',\n",
       " 'EU’s',\n",
       " 'values,',\n",
       " 'principles',\n",
       " 'and',\n",
       " 'fundamental',\n",
       " 'interests',\n",
       " 'worldwide,',\n",
       " 'in',\n",
       " 'line',\n",
       " 'with',\n",
       " 'the',\n",
       " 'objectives',\n",
       " 'and',\n",
       " 'principles',\n",
       " 'of',\n",
       " 'the',\n",
       " 'EU’s',\n",
       " 'external',\n",
       " 'action.',\n",
       " 'Other',\n",
       " 'political',\n",
       " 'priorities',\n",
       " 'such',\n",
       " 'as',\n",
       " 'economic',\n",
       " 'recovery',\n",
       " 'and',\n",
       " 'financial',\n",
       " 'support',\n",
       " 'to',\n",
       " 'small',\n",
       " 'and',\n",
       " 'medium-sized',\n",
       " 'enterprises',\n",
       " 'in',\n",
       " 'the',\n",
       " 'Member',\n",
       " 'States',\n",
       " 'are',\n",
       " 'supported',\n",
       " 'and',\n",
       " 'financed',\n",
       " 'under',\n",
       " 'other',\n",
       " 'specific',\n",
       " 'instruments.',\n",
       " '1',\n",
       " 'Regulation',\n",
       " '(EU)',\n",
       " '2021/947',\n",
       " 'of',\n",
       " 'the',\n",
       " 'European',\n",
       " 'Parliament',\n",
       " 'and',\n",
       " 'of',\n",
       " 'the',\n",
       " 'Council',\n",
       " 'of',\n",
       " '9',\n",
       " 'June',\n",
       " '2021',\n",
       " 'establishing',\n",
       " 'the',\n",
       " 'Neighbourhood,',\n",
       " 'Development',\n",
       " 'and',\n",
       " 'International',\n",
       " 'Cooperation',\n",
       " 'Instrument',\n",
       " '–',\n",
       " 'Global',\n",
       " 'Europe,',\n",
       " 'amending',\n",
       " 'and',\n",
       " 'repealing',\n",
       " 'Decision',\n",
       " 'No',\n",
       " '466/2014/EU',\n",
       " 'of',\n",
       " 'the',\n",
       " 'European',\n",
       " 'Parliament',\n",
       " 'and',\n",
       " 'of',\n",
       " 'the',\n",
       " 'Council',\n",
       " 'and',\n",
       " 'repealing',\n",
       " 'Regulation',\n",
       " '(EU)',\n",
       " '2017/1601',\n",
       " 'of',\n",
       " 'the',\n",
       " 'European',\n",
       " 'Parliament',\n",
       " 'and',\n",
       " 'of',\n",
       " 'the',\n",
       " 'Council',\n",
       " 'and',\n",
       " 'Council',\n",
       " 'Regulation',\n",
       " '(EC,',\n",
       " 'Euratom)',\n",
       " 'No',\n",
       " '480/2009,',\n",
       " 'https://eur-lex.europa.eu/legal-content/EN/TXT/?uri=CELEX%3A02021R0947-20210614']"
      ]
     },
     "execution_count": 27,
     "metadata": {},
     "output_type": "execute_result"
    }
   ],
   "source": [
    "# Counting words\n",
    "words = sample_answer.split()\n",
    "words"
   ]
  },
  {
   "cell_type": "code",
   "execution_count": 28,
   "id": "9e3e728f",
   "metadata": {},
   "outputs": [
    {
     "data": {
      "text/plain": [
       "232"
      ]
     },
     "execution_count": 28,
     "metadata": {},
     "output_type": "execute_result"
    }
   ],
   "source": [
    "len(words)"
   ]
  },
  {
   "cell_type": "code",
   "execution_count": 29,
   "id": "4f18ca9c",
   "metadata": {},
   "outputs": [],
   "source": [
    "# Defining a function to count words\n",
    "def count_words(text):\n",
    "    # Check if the value is a string\n",
    "    if isinstance(text, str): \n",
    "        return len(text.split())\n",
    "    return None"
   ]
  },
  {
   "cell_type": "code",
   "execution_count": 33,
   "id": "9cf63f04",
   "metadata": {},
   "outputs": [],
   "source": [
    "# Count the number of words for all answers in the dataset\n",
    "data['word_count'] = data['answer_text'].apply(count_words)"
   ]
  },
  {
   "cell_type": "code",
   "execution_count": 34,
   "id": "14fadf6a",
   "metadata": {},
   "outputs": [
    {
     "data": {
      "text/plain": [
       "count     838.000000\n",
       "mean      323.841289\n",
       "std       144.323925\n",
       "min        27.000000\n",
       "25%       227.250000\n",
       "50%       291.000000\n",
       "75%       407.750000\n",
       "max      1016.000000\n",
       "Name: word_count, dtype: float64"
      ]
     },
     "execution_count": 34,
     "metadata": {},
     "output_type": "execute_result"
    }
   ],
   "source": [
    "data['word_count'].describe()"
   ]
  },
  {
   "cell_type": "code",
   "execution_count": 36,
   "id": "ae07ecaa",
   "metadata": {},
   "outputs": [
    {
     "name": "stdout",
     "output_type": "stream",
     "text": [
      "                              count        mean         std    min    25%  \\\n",
      "document_type                                                               \n",
      "EP major interpellation         1.0  310.000000         NaN  310.0  310.0   \n",
      "EP priority written question  154.0  322.376623  142.653705   56.0  227.0   \n",
      "Oral question                   0.0         NaN         NaN    NaN    NaN   \n",
      "Written question              683.0  324.191801  144.903830   27.0  230.0   \n",
      "\n",
      "                                50%     75%     max  \n",
      "document_type                                        \n",
      "EP major interpellation       310.0  310.00   310.0  \n",
      "EP priority written question  296.5  396.75   719.0  \n",
      "Oral question                   NaN     NaN     NaN  \n",
      "Written question              291.0  411.00  1016.0  \n"
     ]
    }
   ],
   "source": [
    "# Provide information on the number of words based on the question type\n",
    "word_count_by_institution = data.groupby('document_type')['word_count'].describe()\n",
    "print(word_count_by_institution)"
   ]
  },
  {
   "cell_type": "markdown",
   "id": "b9585c14",
   "metadata": {},
   "source": [
    "# Sentence Count\n",
    "\n",
    "We are using the Natural Language Processing Toolkit, [nltk](https://www.nltk.org/).\n"
   ]
  },
  {
   "cell_type": "code",
   "execution_count": 39,
   "id": "6d545ca4",
   "metadata": {},
   "outputs": [
    {
     "name": "stdout",
     "output_type": "stream",
     "text": [
      "Defaulting to user installation because normal site-packages is not writeable\n",
      "Requirement already satisfied: nltk in /home/natalie/.local/lib/python3.9/site-packages (3.8.1)\n",
      "Requirement already satisfied: click in /home/natalie/.local/lib/python3.9/site-packages (from nltk) (8.1.3)\n",
      "Requirement already satisfied: joblib in /home/natalie/.local/lib/python3.9/site-packages (from nltk) (1.2.0)\n",
      "Requirement already satisfied: regex>=2021.8.3 in /home/natalie/.local/lib/python3.9/site-packages (from nltk) (2022.10.31)\n",
      "Requirement already satisfied: tqdm in /home/natalie/.local/lib/python3.9/site-packages (from nltk) (4.64.1)\n"
     ]
    }
   ],
   "source": [
    "!pip install nltk"
   ]
  },
  {
   "cell_type": "code",
   "execution_count": 48,
   "id": "a367ef95",
   "metadata": {},
   "outputs": [
    {
     "data": {
      "text/plain": [
       "['EN E-000080/2023 Answer given by Mr Várhelyi on behalf of the European Commission (15.3.2023) 1.',\n",
       " 'The EU’s cooperation with third countries is mainly financed under the Neighbourhood,  Development and International Cooperation Instrument (NDICI) – Global Europe1  instrument.',\n",
       " 'This instrument includes robust control mechanisms, such as audits, that enable  the Commission overseeing EU funded actions in partner countries, such as the Kingdom of  Morocco.',\n",
       " 'In this context, the Commission is not aware of any entities or projects funded by  the EU in Morocco under the NDICI instrument that have been subject to investigation in  relation to the alleged case mentioned by the Honourable Member.',\n",
       " '2.',\n",
       " 'The NDICI instrument, which is part of the multiannual financial framework (MFF), is  specifically designed to uphold and promote the EU’s values, principles and fundamental  interests worldwide, in line with the objectives and principles of the EU’s external action.',\n",
       " 'Other political priorities such as economic recovery and financial support to small and  medium-sized enterprises in the Member States are supported and financed under other  specific instruments.',\n",
       " '1 Regulation (EU) 2021/947 of the European Parliament and of the Council of 9 June 2021 establishing the  Neighbourhood, Development and International Cooperation Instrument – Global Europe, amending and  repealing Decision No 466/2014/EU of the European Parliament and of the Council and repealing Regulation  (EU) 2017/1601 of the European Parliament and of the Council and Council Regulation (EC, Euratom) No  480/2009, https://eur-lex.europa.eu/legal-content/EN/TXT/?uri=CELEX%3A02021R0947-20210614']"
      ]
     },
     "execution_count": 48,
     "metadata": {},
     "output_type": "execute_result"
    }
   ],
   "source": [
    "# Split the sample text into sentences\n",
    "from nltk import sent_tokenize\n",
    "\n",
    "sample_answer = sample_answer.replace('\\n', ' ')\n",
    "sentences = sent_tokenize(sample_answer)\n",
    "sentences"
   ]
  },
  {
   "cell_type": "code",
   "execution_count": 49,
   "id": "baf5ae15",
   "metadata": {},
   "outputs": [],
   "source": [
    "# Function to count the number of sentences of a text\n",
    "def count_sentences(text):\n",
    "    if not isinstance(text, str):\n",
    "        return None\n",
    "    sentences = sent_tokenize(text)\n",
    "    return len(sentences)"
   ]
  },
  {
   "cell_type": "code",
   "execution_count": 52,
   "id": "0867325f",
   "metadata": {},
   "outputs": [],
   "source": [
    "data['answer_text'] = data['answer_text'].str.replace('\\n', ' ')\n",
    "data['sentence_count'] = data['answer_text'].apply(count_sentences)"
   ]
  },
  {
   "cell_type": "code",
   "execution_count": 53,
   "id": "e6a47e0f",
   "metadata": {},
   "outputs": [
    {
     "data": {
      "text/plain": [
       "Unnamed: 0\n",
       "0        8.0\n",
       "1       10.0\n",
       "2        7.0\n",
       "3       12.0\n",
       "4       12.0\n",
       "        ... \n",
       "1498     NaN\n",
       "1499     NaN\n",
       "1500     NaN\n",
       "1501     NaN\n",
       "1502     NaN\n",
       "Name: sentence_count, Length: 1503, dtype: float64"
      ]
     },
     "execution_count": 53,
     "metadata": {},
     "output_type": "execute_result"
    }
   ],
   "source": [
    "data.sentence_count"
   ]
  },
  {
   "cell_type": "code",
   "execution_count": 55,
   "id": "8b1a6efb",
   "metadata": {},
   "outputs": [
    {
     "data": {
      "text/plain": [
       "count    838.000000\n",
       "mean      11.471360\n",
       "std        4.619942\n",
       "min        1.000000\n",
       "25%        8.000000\n",
       "50%       11.000000\n",
       "75%       14.750000\n",
       "max       37.000000\n",
       "Name: sentence_count, dtype: float64"
      ]
     },
     "execution_count": 55,
     "metadata": {},
     "output_type": "execute_result"
    }
   ],
   "source": [
    "data.sentence_count.describe()"
   ]
  },
  {
   "cell_type": "code",
   "execution_count": 57,
   "id": "7ab0c0fa",
   "metadata": {},
   "outputs": [
    {
     "name": "stdout",
     "output_type": "stream",
     "text": [
      "                              count       mean       std   min    25%   50%  \\\n",
      "document_type                                                                 \n",
      "EP major interpellation         1.0  21.000000       NaN  21.0  21.00  21.0   \n",
      "EP priority written question  154.0  11.409091  4.558428   2.0   8.25  11.0   \n",
      "Oral question                   0.0        NaN       NaN   NaN    NaN   NaN   \n",
      "Written question              683.0  11.471449  4.625917   1.0   8.00  11.0   \n",
      "\n",
      "                               75%   max  \n",
      "document_type                             \n",
      "EP major interpellation       21.0  21.0  \n",
      "EP priority written question  15.0  22.0  \n",
      "Oral question                  NaN   NaN  \n",
      "Written question              14.0  37.0  \n"
     ]
    }
   ],
   "source": [
    "# group by institution and sum the word counts\n",
    "sentences_count_by_institution = data.groupby('document_type')['sentences_count'].describe()\n",
    "print(sentences_count_by_institution)"
   ]
  },
  {
   "cell_type": "markdown",
   "id": "4b7015fe",
   "metadata": {},
   "source": [
    "Texts vary a lot. While the NLTK `sent_tokenize` covers many use cases for English texts, dependent on the needs custom sentence tokenizer might be a more accurate and better options.\n",
    "\n",
    "Customizable Tokenizer: [PunktSentenceTokenizer](https://www.nltk.org/api/nltk.tokenize.PunktSentenceTokenizer.html)\n",
    "\n",
    "\n"
   ]
  }
 ],
 "metadata": {
  "kernelspec": {
   "display_name": "Python 3 (ipykernel)",
   "language": "python",
   "name": "python3"
  },
  "language_info": {
   "codemirror_mode": {
    "name": "ipython",
    "version": 3
   },
   "file_extension": ".py",
   "mimetype": "text/x-python",
   "name": "python",
   "nbconvert_exporter": "python",
   "pygments_lexer": "ipython3",
   "version": "3.9.16"
  }
 },
 "nbformat": 4,
 "nbformat_minor": 5
}
