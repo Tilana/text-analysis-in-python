{
 "cells": [
  {
   "attachments": {},
   "cell_type": "markdown",
   "id": "d9a3430d",
   "metadata": {
    "slideshow": {
     "slide_type": "slide"
    }
   },
   "source": [
    "# Word and Sentence Count\n",
    "\n",
    "- How long are texts?\n",
    "- How complex?\n",
    "- Who has the biggest share in a conversation?"
   ]
  },
  {
   "attachments": {},
   "cell_type": "markdown",
   "id": "fd5da2de",
   "metadata": {},
   "source": [
    "# Reading in data"
   ]
  },
  {
   "cell_type": "code",
   "execution_count": null,
   "id": "22774886",
   "metadata": {},
   "outputs": [],
   "source": [
    "import pandas as pd"
   ]
  },
  {
   "cell_type": "code",
   "execution_count": null,
   "id": "016d0b71",
   "metadata": {},
   "outputs": [],
   "source": [
    "path = './data/parliamentary-questions_2023_sample.csv'\n",
    "data = pd.read_csv(path, index_col=0)"
   ]
  },
  {
   "cell_type": "code",
   "execution_count": null,
   "id": "0587cb69",
   "metadata": {},
   "outputs": [],
   "source": [
    "data"
   ]
  },
  {
   "attachments": {},
   "cell_type": "markdown",
   "id": "caf4ce7a",
   "metadata": {},
   "source": [
    "# Word Count"
   ]
  },
  {
   "cell_type": "code",
   "execution_count": null,
   "id": "6b873966",
   "metadata": {},
   "outputs": [],
   "source": [
    "sample_answer = data['answer_text'].values[0]\n",
    "sample_answer"
   ]
  },
  {
   "cell_type": "code",
   "execution_count": null,
   "id": "a7919484",
   "metadata": {},
   "outputs": [],
   "source": [
    "print(sample_answer)"
   ]
  },
  {
   "cell_type": "code",
   "execution_count": null,
   "id": "a0b0ff51",
   "metadata": {},
   "outputs": [],
   "source": [
    "# Counting words\n",
    "words = sample_answer.split()\n",
    "words"
   ]
  },
  {
   "cell_type": "code",
   "execution_count": null,
   "id": "9e3e728f",
   "metadata": {},
   "outputs": [],
   "source": [
    "len(words)"
   ]
  },
  {
   "cell_type": "code",
   "execution_count": null,
   "id": "4f18ca9c",
   "metadata": {},
   "outputs": [],
   "source": [
    "# Defining a function to count words\n",
    "def count_words(text):\n",
    "    # Check if the value is a string\n",
    "    if isinstance(text, str): \n",
    "        return len(text.split())\n",
    "    return None"
   ]
  },
  {
   "cell_type": "code",
   "execution_count": null,
   "id": "9cf63f04",
   "metadata": {},
   "outputs": [],
   "source": [
    "# Count the number of words for all answers in the dataset\n",
    "data['word_count'] = data['answer_text'].apply(count_words)"
   ]
  },
  {
   "cell_type": "code",
   "execution_count": null,
   "id": "14fadf6a",
   "metadata": {},
   "outputs": [],
   "source": [
    "data['word_count'].describe()"
   ]
  },
  {
   "cell_type": "code",
   "execution_count": null,
   "id": "ae07ecaa",
   "metadata": {},
   "outputs": [],
   "source": [
    "# Provide information on the number of words based on the question type\n",
    "word_count_by_institution = data.groupby('document_type')['word_count'].describe()\n",
    "print(word_count_by_institution)"
   ]
  },
  {
   "attachments": {},
   "cell_type": "markdown",
   "id": "b9585c14",
   "metadata": {},
   "source": [
    "# Sentence Count\n",
    "\n",
    "We are using the Natural Language Processing Toolkit, [nltk](https://www.nltk.org/).\n"
   ]
  },
  {
   "cell_type": "code",
   "execution_count": null,
   "id": "6826ad7a",
   "metadata": {},
   "outputs": [],
   "source": [
    "import nltk\n",
    "nltk.download('punkt')"
   ]
  },
  {
   "cell_type": "code",
   "execution_count": null,
   "id": "a367ef95",
   "metadata": {},
   "outputs": [],
   "source": [
    "# Split the sample text into sentences\n",
    "from nltk import sent_tokenize\n",
    "\n",
    "sample_answer = sample_answer.replace('\\n', ' ')\n",
    "sentences = sent_tokenize(sample_answer)\n",
    "sentences"
   ]
  },
  {
   "cell_type": "code",
   "execution_count": null,
   "id": "baf5ae15",
   "metadata": {},
   "outputs": [],
   "source": [
    "# Function to count the number of sentences of a text\n",
    "def count_sentences(text):\n",
    "    if not isinstance(text, str):\n",
    "        return None\n",
    "    sentences = sent_tokenize(text)\n",
    "    return len(sentences)"
   ]
  },
  {
   "cell_type": "code",
   "execution_count": null,
   "id": "0867325f",
   "metadata": {},
   "outputs": [],
   "source": [
    "data['answer_text'] = data['answer_text'].str.replace('\\n', ' ')\n",
    "data['sentence_count'] = data['answer_text'].apply(count_sentences)"
   ]
  },
  {
   "cell_type": "code",
   "execution_count": null,
   "id": "e6a47e0f",
   "metadata": {},
   "outputs": [],
   "source": [
    "data.sentence_count"
   ]
  },
  {
   "cell_type": "code",
   "execution_count": null,
   "id": "8b1a6efb",
   "metadata": {},
   "outputs": [],
   "source": [
    "data.sentence_count.describe()"
   ]
  },
  {
   "cell_type": "code",
   "execution_count": null,
   "id": "7ab0c0fa",
   "metadata": {},
   "outputs": [],
   "source": [
    "# group by institution and sum the word counts\n",
    "sentences_count_by_institution = data.groupby('document_type')['sentence_count'].describe()\n",
    "print(sentences_count_by_institution)"
   ]
  },
  {
   "attachments": {},
   "cell_type": "markdown",
   "id": "4b7015fe",
   "metadata": {},
   "source": [
    "# Further Resources\n",
    "\n",
    "Texts vary a lot. While the NLTK `sent_tokenize` covers many use cases for English texts, dependent on the needs custom sentence tokenizer might be a more accurate and better options.\n",
    "\n",
    "Customizable Tokenizer: [PunktSentenceTokenizer](https://www.nltk.org/api/nltk.tokenize.PunktSentenceTokenizer.html)\n",
    "\n",
    "\n"
   ]
  }
 ],
 "metadata": {
  "kernelspec": {
   "display_name": "Python 3 (ipykernel)",
   "language": "python",
   "name": "python3"
  },
  "language_info": {
   "codemirror_mode": {
    "name": "ipython",
    "version": 3
   },
   "file_extension": ".py",
   "mimetype": "text/x-python",
   "name": "python",
   "nbconvert_exporter": "python",
   "pygments_lexer": "ipython3",
   "version": "3.9.16"
  }
 },
 "nbformat": 4,
 "nbformat_minor": 5
}
