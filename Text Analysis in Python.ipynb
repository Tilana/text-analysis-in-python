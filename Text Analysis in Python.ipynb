{
 "cells": [
  {
   "cell_type": "markdown",
   "id": "d9a3430d",
   "metadata": {
    "slideshow": {
     "slide_type": "slide"
    }
   },
   "source": [
    "# Text Analysis in Python \n",
    "\n",
    "\n",
    "\n",
    "### Natalie Widmann\n",
    "\n",
    "\n",
    "Dataharvest 2023, 3rd of June\n",
    "\n",
    "\n"
   ]
  },
  {
   "cell_type": "markdown",
   "id": "0dc16261",
   "metadata": {
    "slideshow": {
     "slide_type": "slide"
    }
   },
   "source": [
    "# Agenda\n",
    "\n",
    "- What is text analysis? Why is it useful?\n",
    "- Hands-On Practice:\n",
    "    - Data Exploration\n",
    "    - Counting the Number of Words / Sentences\n",
    "    - Gaining Insights into the Content\n",
    "    - Extracting information"
   ]
  },
  {
   "cell_type": "markdown",
   "id": "b454ca7e",
   "metadata": {
    "slideshow": {
     "slide_type": "slide"
    }
   },
   "source": [
    "# Motivation\n",
    "\n",
    "\n",
    "Unstructured data is really difficult to analyse. Text analysis can help us with:\n",
    "\n",
    "- Exploring data: Gaining first insights into what information is given\n",
    "\n",
    "- Extracting key information which can then be used for further analysis\n",
    "\n",
    "- Making information accessible by making it searchable or by categorizing it\n",
    "\n"
   ]
  },
  {
   "cell_type": "markdown",
   "id": "29e984ec",
   "metadata": {
    "slideshow": {
     "slide_type": "slide"
    }
   },
   "source": [
    "![European Parliament - Open Data Portal](./imgs/eu_data_portal.png)\n",
    "\n",
    "https://data.europarl.europa.eu/en/home"
   ]
  },
  {
   "cell_type": "markdown",
   "id": "1e815010",
   "metadata": {
    "slideshow": {
     "slide_type": "slide"
    }
   },
   "source": [
    "# Let's dive into the data"
   ]
  },
  {
   "cell_type": "markdown",
   "id": "e66b1413",
   "metadata": {
    "slideshow": {
     "slide_type": "slide"
    }
   },
   "source": [
    "### Data Exploration: [Jupyter Notebook](https://mybinder.org/v2/gh/Tilana/text-analysis-in-python/main?filepath=Deep%20Dive%20-%20Exploration.ipynb)\n"
   ]
  },
  {
   "cell_type": "markdown",
   "id": "6bf88194",
   "metadata": {
    "slideshow": {
     "slide_type": "slide"
    }
   },
   "source": [
    "### Counting Words & Sentences: [Jupyter Notebook](https://mybinder.org/v2/gh/Tilana/text-analysis-in-python/main?filepath=Deep%20Dive%20-%20Word%20and%20Sentence%20Count.ipynb)"
   ]
  },
  {
   "cell_type": "markdown",
   "id": "854d105b",
   "metadata": {
    "slideshow": {
     "slide_type": "slide"
    }
   },
   "source": [
    "### Gaining insights into the content: [Jupyter Notebook](https://mybinder.org/v2/gh/Tilana/text-analysis-in-python/main?filepath=Deep%20Dive%20-%20Content%20Analysis.ipynb)"
   ]
  },
  {
   "cell_type": "markdown",
   "id": "cd4bc6ce",
   "metadata": {
    "slideshow": {
     "slide_type": "slide"
    }
   },
   "source": [
    "### Information Extraction: [Jupyter Notebook](https://mybinder.org/v2/gh/Tilana/text-analysis-in-python/main?filepath=Deep%20Dive%20-%20Information%20Extraction.ipynb)"
   ]
  },
  {
   "cell_type": "markdown",
   "id": "8a75dee9",
   "metadata": {
    "slideshow": {
     "slide_type": "slide"
    }
   },
   "source": [
    "### Learning #1 \n",
    "## Text is messy, but insightful!\n",
    "\n",
    "- Keep calm and work you way through - it's worth it!"
   ]
  },
  {
   "cell_type": "markdown",
   "id": "bcc67d2a",
   "metadata": {
    "slideshow": {
     "slide_type": "slide"
    }
   },
   "source": [
    "### Learning #2\n",
    "## Work from concrete examples to abstract methods\n",
    "\n",
    "1. Work on a sample text to solve your problem\n",
    "2. Generalize the solution in a function\n",
    "3. Apply the function to the dataset\n",
    "4. Revise the results\n",
    "5. if necessary adjust and repeat "
   ]
  },
  {
   "cell_type": "markdown",
   "id": "869b4df2",
   "metadata": {
    "slideshow": {
     "slide_type": "slide"
    }
   },
   "source": [
    "### Learning #3\n",
    "\n",
    "## You've got the power!\n",
    "\n",
    "While there are many no-code tools for text analysis, having the programming knowledge empowers you to build custom solutions to perfectly fit your use case, without sharing sensitive data or being limited by the abilities of a specific tool."
   ]
  },
  {
   "cell_type": "markdown",
   "id": "b24847ae",
   "metadata": {},
   "source": [
    "# Thanks.\n",
    "\n",
    "\n",
    "### Contact\n",
    "\n",
    "\n",
    "For feedback or questions connect via https://www.linkedin.com/in/natalie-widmann/ \n",
    "\n",
    "or write to `natalie_widmann@posteo.net`\n",
    "\n"
   ]
  }
 ],
 "metadata": {
  "celltoolbar": "Slideshow",
  "kernelspec": {
   "display_name": "Python 3 (ipykernel)",
   "language": "python",
   "name": "python3"
  },
  "language_info": {
   "codemirror_mode": {
    "name": "ipython",
    "version": 3
   },
   "file_extension": ".py",
   "mimetype": "text/x-python",
   "name": "python",
   "nbconvert_exporter": "python",
   "pygments_lexer": "ipython3",
   "version": "3.9.16"
  },
  "livereveal": {
   "autolaunch": true
  }
 },
 "nbformat": 4,
 "nbformat_minor": 5
}
