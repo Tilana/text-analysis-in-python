{
 "cells": [
  {
   "cell_type": "markdown",
   "id": "68e5a891",
   "metadata": {},
   "source": [
    "# Exploring the data\n",
    "\n",
    "- What information is in the data?\n",
    "- How much information do we have?\n",
    "- What language is spoken?\n",
    "- Is it complete? Are there missing values?\n",
    "- Which information is valuable? Which can be neglected?\n"
   ]
  },
  {
   "cell_type": "markdown",
   "id": "fd5da2de",
   "metadata": {},
   "source": [
    "## Reading in data\n",
    "\n",
    "Using [pandas dataframe](https://pandas.pydata.org/) for csv files"
   ]
  },
  {
   "cell_type": "code",
   "execution_count": null,
   "id": "22774886",
   "metadata": {},
   "outputs": [],
   "source": [
    "import pandas as pd"
   ]
  },
  {
   "cell_type": "code",
   "execution_count": null,
   "id": "016d0b71",
   "metadata": {},
   "outputs": [],
   "source": [
    "path = './data/parliamentary-questions_fulltext_2023.csv'\n",
    "data = pd.read_csv(path, index_col=1)"
   ]
  },
  {
   "cell_type": "code",
   "execution_count": null,
   "id": "3d49e56c",
   "metadata": {},
   "outputs": [],
   "source": [
    "data"
   ]
  },
  {
   "cell_type": "code",
   "execution_count": null,
   "id": "5fcedea9",
   "metadata": {},
   "outputs": [],
   "source": [
    "# Number of rows in the dataset\n",
    "len(data)"
   ]
  },
  {
   "cell_type": "code",
   "execution_count": null,
   "id": "5dbc6c47",
   "metadata": {},
   "outputs": [],
   "source": [
    "# Names of the columns\n",
    "data.columns"
   ]
  },
  {
   "cell_type": "code",
   "execution_count": null,
   "id": "6e26476d",
   "metadata": {},
   "outputs": [],
   "source": [
    "# Exploring unique values of a column\n",
    "data.document_language.unique()"
   ]
  },
  {
   "cell_type": "code",
   "execution_count": null,
   "id": "53426eb4",
   "metadata": {},
   "outputs": [],
   "source": [
    "data.document_type.unique()"
   ]
  },
  {
   "cell_type": "code",
   "execution_count": null,
   "id": "9df048dc",
   "metadata": {},
   "outputs": [],
   "source": [
    "# Looking at the document titles\n",
    "data.document_title.tolist()"
   ]
  },
  {
   "cell_type": "code",
   "execution_count": null,
   "id": "6fc0caae",
   "metadata": {},
   "outputs": [],
   "source": [
    "# Explore the texts\n",
    "sample_question = data.question_text.values[0]\n",
    "print(sample_question)"
   ]
  },
  {
   "cell_type": "code",
   "execution_count": null,
   "id": "e6fb8242",
   "metadata": {},
   "outputs": [],
   "source": [
    "sample_answer = data.answer_text.values[10]\n",
    "print(sample_answer)"
   ]
  },
  {
   "cell_type": "code",
   "execution_count": null,
   "id": "e7f08318",
   "metadata": {},
   "outputs": [],
   "source": [
    "# Looking for missing values\n",
    "data.info()"
   ]
  },
  {
   "cell_type": "code",
   "execution_count": null,
   "id": "3fd4741e",
   "metadata": {},
   "outputs": [],
   "source": [
    "# Reducing the data to the most valuable information\n",
    "cols = ['document_identifier', 'document_title', 'document_type', 'document_date', 'question_text', 'answer_text']\n",
    "df = data[cols]\n",
    "df"
   ]
  },
  {
   "cell_type": "code",
   "execution_count": null,
   "id": "f5bad142",
   "metadata": {},
   "outputs": [],
   "source": [
    "# Storing the data for processing\n",
    "df.to_csv('./data/parliamentary-questions_2023_sample.csv')"
   ]
  }
 ],
 "metadata": {
  "kernelspec": {
   "display_name": "Python 3 (ipykernel)",
   "language": "python",
   "name": "python3"
  },
  "language_info": {
   "codemirror_mode": {
    "name": "ipython",
    "version": 3
   },
   "file_extension": ".py",
   "mimetype": "text/x-python",
   "name": "python",
   "nbconvert_exporter": "python",
   "pygments_lexer": "ipython3",
   "version": "3.9.16"
  }
 },
 "nbformat": 4,
 "nbformat_minor": 5
}
