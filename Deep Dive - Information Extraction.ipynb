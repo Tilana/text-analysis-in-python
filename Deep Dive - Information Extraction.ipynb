{
 "cells": [
  {
   "cell_type": "markdown",
   "id": "d9a3430d",
   "metadata": {
    "slideshow": {
     "slide_type": "slide"
    }
   },
   "source": [
    "# Information Extraction\n",
    "\n",
    "\n",
    "How can we extract structured information from text?\n",
    "\n",
    "This allows us to answer for example the following questions:\n",
    "\n",
    "- Who receives questions from MEPs?\n",
    "- When were the answers submitted? How long is the response time?\n",
    "- Which party is asking most questions?\n",
    "\n"
   ]
  },
  {
   "cell_type": "markdown",
   "id": "fd5da2de",
   "metadata": {},
   "source": [
    "# Reading in data"
   ]
  },
  {
   "cell_type": "code",
   "execution_count": 4,
   "id": "d46a8daf",
   "metadata": {},
   "outputs": [
    {
     "name": "stdout",
     "output_type": "stream",
     "text": [
      "Defaulting to user installation because normal site-packages is not writeable\n",
      "Requirement already satisfied: pandas in /home/natalie/.local/lib/python3.9/site-packages (1.5.1)\n",
      "Requirement already satisfied: python-dateutil>=2.8.1 in /home/natalie/.local/lib/python3.9/site-packages (from pandas) (2.8.2)\n",
      "Requirement already satisfied: pytz>=2020.1 in /home/natalie/.local/lib/python3.9/site-packages (from pandas) (2022.6)\n",
      "Requirement already satisfied: numpy>=1.20.3 in /home/natalie/.local/lib/python3.9/site-packages (from pandas) (1.23.4)\n",
      "Requirement already satisfied: six>=1.5 in /usr/lib/python3/dist-packages (from python-dateutil>=2.8.1->pandas) (1.14.0)\n"
     ]
    }
   ],
   "source": [
    "!pip install pandas"
   ]
  },
  {
   "cell_type": "code",
   "execution_count": 5,
   "id": "22774886",
   "metadata": {},
   "outputs": [],
   "source": [
    "import pandas as pd"
   ]
  },
  {
   "cell_type": "code",
   "execution_count": 20,
   "id": "016d0b71",
   "metadata": {},
   "outputs": [],
   "source": [
    "path = './data/parliamentary-questions_2023_sample.csv'\n",
    "data = pd.read_csv(path, index_col=1)"
   ]
  },
  {
   "cell_type": "code",
   "execution_count": 21,
   "id": "7abe8ad5",
   "metadata": {},
   "outputs": [
    {
     "name": "stdout",
     "output_type": "stream",
     "text": [
      "PE741.586v01-00Question for written answer E-000202/2023\n",
      "to the Commission\n",
      "Rule 138\n",
      "Clara Aguilera (S&D)\n",
      "Subject: The need to create a European cormorant management plan\n",
      "In the Committee on Fisheries’ public hearing on 11 May 2022, several experts showed how \n",
      "cormorants – which have been a protected species since the 1980s – can hunt prey in such large \n",
      "quantities that entire habitats struggle to cope, and the ecosystems concerned cannot be restored.\n",
      "More recently, during the October 2022 plenary session, a broad majority in Parliament adopted a \n",
      "resolution entitled ‘Striving for a sustainable and competitive EU aquaculture: the way forward \n",
      "(2021/2189(INI))’. In that resolution, Parliament asks the Commission to prepare a European \n",
      "cormorant management plan, since coexistence measures have proved insufficient and the growth of \n",
      "cormorant populations is causing serious damage to many marine sectors. This measure is not only \n",
      "crucial for the sustainability of some aquaculture practices, it would also allow the stocks of affected \n",
      "fish species in the wild to regenerate. These fish stocks are key to the livelihoods and recreational \n",
      "activities of millions of Europeans, never mind the species’ important role in the sustainability of their \n",
      "habitats.\n",
      "In light of the above:\n",
      "Is the Commission considering drawing up a European cormorant management plan, as requested by \n",
      "the European Parliament?\n",
      "Submitted: 24.1.2023\n"
     ]
    }
   ],
   "source": [
    "sample_question = data.question_text.values[100]\n",
    "print(sample_question)"
   ]
  },
  {
   "cell_type": "code",
   "execution_count": 22,
   "id": "2f1c7168",
   "metadata": {},
   "outputs": [
    {
     "name": "stdout",
     "output_type": "stream",
     "text": [
      "EN\n",
      "E-000227/2023\n",
      "Answer given by Ms Vălean\n",
      "on behalf of the European Commission\n",
      "(27.3.2023)\n",
      "As the Commission has explained in the explanatory memorandum of its proposal of \n",
      "12 September 2018 on abolishing seasonal time changes1, research indicates that the overall \n",
      "energy savings effect of summertime is marginal, despite having been one of the main drivers \n",
      "of the current arrangements. That also means abolishing time changes should not significantly \n",
      "impact costs of heating and electricity neither for citizens nor for businesses.\n",
      "However, results tend to vary depending on factors such as geographical location. That is why \n",
      "Member States are best placed to decide on whether they want to keep permanent summer- or \n",
      "wintertime should seasonal time changes be abolished, taking into account possible scenarios \n",
      "for the choice of their permanent standard time.\n",
      "As rightly mentioned by the Honourable Member, the Commission proposal on discontinuing \n",
      "seasonal time changes has not made progress since the European Parliament voted its position \n",
      "in March 2019. In the Council, it was last discussed under the Finnish Presidency in 2019, as \n",
      "it appears there is not sufficient support among Member States for the Commission proposal. \n",
      "Therefore, there is no indication that the proposed legislation will be likely to enter into force \n",
      "in the coming years.\n",
      "1 https://eur-lex.europa.eu/legal-content/EN/TXT/HTML/?uri=CELEX:52018PC0639&from=EN \n"
     ]
    }
   ],
   "source": [
    "sample_answer = data.answer_text.values[110]\n",
    "print(sample_answer)"
   ]
  },
  {
   "cell_type": "markdown",
   "id": "95104977",
   "metadata": {},
   "source": [
    "# Extracting information from text\n",
    "\n",
    "## Methods\n",
    "\n",
    "- Based on document structure. This requires all documents to be structured exactly the same to avoid noise or wrong extractions\n",
    "- Named Entity Extraction"
   ]
  },
  {
   "cell_type": "markdown",
   "id": "dfcfdc25",
   "metadata": {},
   "source": [
    "## Extract the recipient"
   ]
  },
  {
   "cell_type": "code",
   "execution_count": 23,
   "id": "22d7c559",
   "metadata": {},
   "outputs": [
    {
     "data": {
      "text/plain": [
       "['PE741.586v01-00Question for written answer E-000202/2023',\n",
       " 'to the Commission',\n",
       " 'Rule 138',\n",
       " 'Clara Aguilera (S&D)',\n",
       " 'Subject: The need to create a European cormorant management plan',\n",
       " 'In the Committee on Fisheries’ public hearing on 11 May 2022, several experts showed how ',\n",
       " 'cormorants – which have been a protected species since the 1980s – can hunt prey in such large ',\n",
       " 'quantities that entire habitats struggle to cope, and the ecosystems concerned cannot be restored.',\n",
       " 'More recently, during the October 2022 plenary session, a broad majority in Parliament adopted a ',\n",
       " 'resolution entitled ‘Striving for a sustainable and competitive EU aquaculture: the way forward ',\n",
       " '(2021/2189(INI))’. In that resolution, Parliament asks the Commission to prepare a European ',\n",
       " 'cormorant management plan, since coexistence measures have proved insufficient and the growth of ',\n",
       " 'cormorant populations is causing serious damage to many marine sectors. This measure is not only ',\n",
       " 'crucial for the sustainability of some aquaculture practices, it would also allow the stocks of affected ',\n",
       " 'fish species in the wild to regenerate. These fish stocks are key to the livelihoods and recreational ',\n",
       " 'activities of millions of Europeans, never mind the species’ important role in the sustainability of their ',\n",
       " 'habitats.',\n",
       " 'In light of the above:',\n",
       " 'Is the Commission considering drawing up a European cormorant management plan, as requested by ',\n",
       " 'the European Parliament?',\n",
       " 'Submitted: 24.1.2023']"
      ]
     },
     "execution_count": 23,
     "metadata": {},
     "output_type": "execute_result"
    }
   ],
   "source": [
    "sample_question.split('\\n')"
   ]
  },
  {
   "cell_type": "code",
   "execution_count": 24,
   "id": "8a419784",
   "metadata": {},
   "outputs": [],
   "source": [
    "def get_recipient_from_question(question):\n",
    "    recipient_text = question.split('\\n')[1]\n",
    "    return recipient_text.replace('to the ', '')"
   ]
  },
  {
   "cell_type": "code",
   "execution_count": 25,
   "id": "a5b4c31e",
   "metadata": {},
   "outputs": [],
   "source": [
    "data['recipient'] = data['question_text'].apply(get_recipient_from_question)"
   ]
  },
  {
   "cell_type": "code",
   "execution_count": 26,
   "id": "cc777fce",
   "metadata": {},
   "outputs": [
    {
     "data": {
      "text/plain": [
       "Commission                                                                                  1373\n",
       "Vice-President of the Commission / High Representative of the Union for Foreign Affairs       97\n",
       "Council                                                                                       33\n",
       "Name: recipient, dtype: int64"
      ]
     },
     "execution_count": 26,
     "metadata": {},
     "output_type": "execute_result"
    }
   ],
   "source": [
    "data.recipient.value_counts()"
   ]
  },
  {
   "cell_type": "markdown",
   "id": "04fe0896",
   "metadata": {},
   "source": [
    "## Digression: Regular Expressions\n",
    "\n",
    "Regular expressions (regex) are concise patterns used for searching and manipulating text. \n",
    "\n",
    "Examples:\n",
    "- Websites: `/^www/`\n",
    "- Extracting dates in the format dd/mm/yyyy: `\\d{2}/\\d{2}/\\d{4}`\n",
    "- Matching email addresses \n",
    "\n",
    "\n",
    "Tools:\n",
    "\n",
    "- RegEx Generator: https://www.autoregex.xyz/\n",
    "- RegEx Online Tester: https://regexr.com/"
   ]
  },
  {
   "cell_type": "markdown",
   "id": "341a4d5a",
   "metadata": {},
   "source": [
    "## Extract the date of the answer submission"
   ]
  },
  {
   "cell_type": "code",
   "execution_count": 27,
   "id": "8df8acfa",
   "metadata": {},
   "outputs": [],
   "source": [
    "import re\n",
    "\n",
    "date_regex = '(\\d{1,2}\\.\\d{1,2}\\.\\d{4})'"
   ]
  },
  {
   "cell_type": "code",
   "execution_count": 28,
   "id": "b8ab33ad",
   "metadata": {},
   "outputs": [
    {
     "data": {
      "text/plain": [
       "['27.3.2023']"
      ]
     },
     "execution_count": 28,
     "metadata": {},
     "output_type": "execute_result"
    }
   ],
   "source": [
    "re.findall(date_regex, sample_answer)"
   ]
  },
  {
   "cell_type": "code",
   "execution_count": 29,
   "id": "ae1a25d3",
   "metadata": {},
   "outputs": [],
   "source": [
    "def get_answer_date(answer):\n",
    "    if not isinstance(answer, str):\n",
    "        return None\n",
    "    matches = re.findall(date_regex, answer)\n",
    "    if len(matches) > 0:\n",
    "        return matches[0]\n",
    "    else:\n",
    "        return None"
   ]
  },
  {
   "cell_type": "code",
   "execution_count": 30,
   "id": "f1c966d7",
   "metadata": {},
   "outputs": [],
   "source": [
    "data['answer_date'] = data['answer_text'].apply(get_answer_date)"
   ]
  },
  {
   "cell_type": "code",
   "execution_count": 31,
   "id": "8e121247",
   "metadata": {},
   "outputs": [
    {
     "data": {
      "text/plain": [
       "array(['15.3.2023', '6.3.2023', '13.2.2023', '11.1.2023', '10.3.2023',\n",
       "       '3.3.2023', '21.2.2023', '20.2.2023', '24.2.2023', '17.3.2023',\n",
       "       '17.2.2023', '16.2.2023', '14.2.2023', '28.3.2023', '28.2.2023',\n",
       "       '20.3.2023', '15.2.2023', '9.3.2023', '11.4.2023', '9.2.2023',\n",
       "       '3.4.2023', '13.3.2023', '14.3.2023', '16.3.2023', '27.2.2023',\n",
       "       '30.3.2023', '9.1.2023', '22.2.2023', '8.1.2023', '2.3.2023',\n",
       "       '24.3.2023', '1.3.2023', '17.4.2023', '22.3.2023', '12.1.2023',\n",
       "       '31.3.2023', '10.1.2023', '23.3.2023', '7.3.2023', None,\n",
       "       '23.1.2023', '23.2.2023', '27.3.2023', '25.1.2023', '16.1.2023',\n",
       "       '24.1.2023', '18.1.2023', '21.3.2023', '21.4.2023', '13.4.2023',\n",
       "       '29.3.2023', '4.4.2023', '25.4.2023', '11.5.2023', '8.3.2023',\n",
       "       '19.1.2023', '31.1.2023', '7.2.2023', '23.4.2023', '30.1.2023',\n",
       "       '12.4.2023', '26.1.2023', '6.2.2023', '2.2.2023', '1.2.2023',\n",
       "       '27.4.2023', '3.5.2023', '27.1.2023', '18.4.2023', '14.4.2023',\n",
       "       '5.4.2023', '10.2.2023', '16.5.2023', '8.2.2023', '24.4.2023',\n",
       "       '2.5.2023', '5.5.2023', '20.4.2023', '28.4.2023', '19.4.2023',\n",
       "       '15.5.2023', '26.4.2023', '12.5.2023', '17.5.2023', '9.5.2023',\n",
       "       '4.5.2023', '22.5.2023', '10.5.2023', '8.5.2023', '7.4.2023'],\n",
       "      dtype=object)"
      ]
     },
     "execution_count": 31,
     "metadata": {},
     "output_type": "execute_result"
    }
   ],
   "source": [
    "data.answer_date.unique()"
   ]
  },
  {
   "cell_type": "code",
   "execution_count": 32,
   "id": "c0384105",
   "metadata": {},
   "outputs": [
    {
     "data": {
      "text/html": [
       "<div>\n",
       "<style scoped>\n",
       "    .dataframe tbody tr th:only-of-type {\n",
       "        vertical-align: middle;\n",
       "    }\n",
       "\n",
       "    .dataframe tbody tr th {\n",
       "        vertical-align: top;\n",
       "    }\n",
       "\n",
       "    .dataframe thead th {\n",
       "        text-align: right;\n",
       "    }\n",
       "</style>\n",
       "<table border=\"1\" class=\"dataframe\">\n",
       "  <thead>\n",
       "    <tr style=\"text-align: right;\">\n",
       "      <th></th>\n",
       "      <th>Unnamed: 0</th>\n",
       "      <th>document_title</th>\n",
       "      <th>document_type</th>\n",
       "      <th>document_date</th>\n",
       "      <th>question_text</th>\n",
       "      <th>answer_text</th>\n",
       "      <th>recipient</th>\n",
       "      <th>answer_date</th>\n",
       "    </tr>\n",
       "    <tr>\n",
       "      <th>document_identifier</th>\n",
       "      <th></th>\n",
       "      <th></th>\n",
       "      <th></th>\n",
       "      <th></th>\n",
       "      <th></th>\n",
       "      <th></th>\n",
       "      <th></th>\n",
       "      <th></th>\n",
       "    </tr>\n",
       "  </thead>\n",
       "  <tbody>\n",
       "    <tr>\n",
       "      <th>E-9-2023-000073</th>\n",
       "      <td>98</td>\n",
       "      <td>Commission confirms its support for dubious NGO</td>\n",
       "      <td>Written question</td>\n",
       "      <td>2023-01-11</td>\n",
       "      <td>PE741.309v01-00Question for written answer E-0...</td>\n",
       "      <td>NaN</td>\n",
       "      <td>Commission</td>\n",
       "      <td>None</td>\n",
       "    </tr>\n",
       "    <tr>\n",
       "      <th>E-9-2023-000017</th>\n",
       "      <td>99</td>\n",
       "      <td>Greek government assistance for ‘investment’ b...</td>\n",
       "      <td>Written question</td>\n",
       "      <td>2023-01-06</td>\n",
       "      <td>PE741.237v01-00Question for written answer E-0...</td>\n",
       "      <td>NaN</td>\n",
       "      <td>Commission</td>\n",
       "      <td>None</td>\n",
       "    </tr>\n",
       "    <tr>\n",
       "      <th>E-9-2023-000148</th>\n",
       "      <td>198</td>\n",
       "      <td>Response to a leaked EU document on Area C</td>\n",
       "      <td>Written question</td>\n",
       "      <td>2023-01-18</td>\n",
       "      <td>PE741.536v02-00Question for written answer E-0...</td>\n",
       "      <td>NaN</td>\n",
       "      <td>Commission</td>\n",
       "      <td>None</td>\n",
       "    </tr>\n",
       "    <tr>\n",
       "      <th>E-9-2023-000171</th>\n",
       "      <td>199</td>\n",
       "      <td>Protests in Israel against plans to reform the...</td>\n",
       "      <td>Written question</td>\n",
       "      <td>2023-01-19</td>\n",
       "      <td>PE741.559v01-00Question for written answer E-0...</td>\n",
       "      <td>NaN</td>\n",
       "      <td>Vice-President of the Commission / High Repres...</td>\n",
       "      <td>None</td>\n",
       "    </tr>\n",
       "    <tr>\n",
       "      <th>E-9-2023-000362</th>\n",
       "      <td>294</td>\n",
       "      <td>Recovery and Resilience Facility, NextGenerati...</td>\n",
       "      <td>Written question</td>\n",
       "      <td>2023-02-07</td>\n",
       "      <td>PE742.815v01-00Question for written answer E-0...</td>\n",
       "      <td>NaN</td>\n",
       "      <td>Commission</td>\n",
       "      <td>None</td>\n",
       "    </tr>\n",
       "    <tr>\n",
       "      <th>...</th>\n",
       "      <td>...</td>\n",
       "      <td>...</td>\n",
       "      <td>...</td>\n",
       "      <td>...</td>\n",
       "      <td>...</td>\n",
       "      <td>...</td>\n",
       "      <td>...</td>\n",
       "      <td>...</td>\n",
       "    </tr>\n",
       "    <tr>\n",
       "      <th>P-9-2023-001267</th>\n",
       "      <td>1498</td>\n",
       "      <td>EU response to the Egyptian President’s order ...</td>\n",
       "      <td>EP priority written question</td>\n",
       "      <td>2023-04-19</td>\n",
       "      <td>PE747.332v01-00Priority question for written a...</td>\n",
       "      <td>NaN</td>\n",
       "      <td>Vice-President of the Commission / High Repres...</td>\n",
       "      <td>None</td>\n",
       "    </tr>\n",
       "    <tr>\n",
       "      <th>P-9-2023-001146</th>\n",
       "      <td>1499</td>\n",
       "      <td>Most efficient installations in the sectors co...</td>\n",
       "      <td>EP priority written question</td>\n",
       "      <td>2023-04-05</td>\n",
       "      <td>PE747.143v02-00Priority question for written a...</td>\n",
       "      <td>NaN</td>\n",
       "      <td>Commission</td>\n",
       "      <td>None</td>\n",
       "    </tr>\n",
       "    <tr>\n",
       "      <th>P-9-2023-001529</th>\n",
       "      <td>1500</td>\n",
       "      <td>Workers’ rights in Myanmar under the MADE in M...</td>\n",
       "      <td>EP priority written question</td>\n",
       "      <td>2023-05-10</td>\n",
       "      <td>PE749.414v01-00Priority question for written a...</td>\n",
       "      <td>NaN</td>\n",
       "      <td>Commission</td>\n",
       "      <td>None</td>\n",
       "    </tr>\n",
       "    <tr>\n",
       "      <th>P-9-2023-001534</th>\n",
       "      <td>1501</td>\n",
       "      <td>The European institution’s support of Islamist...</td>\n",
       "      <td>EP priority written question</td>\n",
       "      <td>2023-05-09</td>\n",
       "      <td>PE749.419v01-00Priority question for written a...</td>\n",
       "      <td>NaN</td>\n",
       "      <td>Commission</td>\n",
       "      <td>None</td>\n",
       "    </tr>\n",
       "    <tr>\n",
       "      <th>P-9-2023-001535</th>\n",
       "      <td>1502</td>\n",
       "      <td>Putting an end to work-related deaths in Europe</td>\n",
       "      <td>EP priority written question</td>\n",
       "      <td>2023-05-10</td>\n",
       "      <td>PE749.420v01-00Priority question for written a...</td>\n",
       "      <td>NaN</td>\n",
       "      <td>Commission</td>\n",
       "      <td>None</td>\n",
       "    </tr>\n",
       "  </tbody>\n",
       "</table>\n",
       "<p>665 rows × 8 columns</p>\n",
       "</div>"
      ],
      "text/plain": [
       "                     Unnamed: 0  \\\n",
       "document_identifier               \n",
       "E-9-2023-000073              98   \n",
       "E-9-2023-000017              99   \n",
       "E-9-2023-000148             198   \n",
       "E-9-2023-000171             199   \n",
       "E-9-2023-000362             294   \n",
       "...                         ...   \n",
       "P-9-2023-001267            1498   \n",
       "P-9-2023-001146            1499   \n",
       "P-9-2023-001529            1500   \n",
       "P-9-2023-001534            1501   \n",
       "P-9-2023-001535            1502   \n",
       "\n",
       "                                                        document_title  \\\n",
       "document_identifier                                                      \n",
       "E-9-2023-000073        Commission confirms its support for dubious NGO   \n",
       "E-9-2023-000017      Greek government assistance for ‘investment’ b...   \n",
       "E-9-2023-000148             Response to a leaked EU document on Area C   \n",
       "E-9-2023-000171      Protests in Israel against plans to reform the...   \n",
       "E-9-2023-000362      Recovery and Resilience Facility, NextGenerati...   \n",
       "...                                                                ...   \n",
       "P-9-2023-001267      EU response to the Egyptian President’s order ...   \n",
       "P-9-2023-001146      Most efficient installations in the sectors co...   \n",
       "P-9-2023-001529      Workers’ rights in Myanmar under the MADE in M...   \n",
       "P-9-2023-001534      The European institution’s support of Islamist...   \n",
       "P-9-2023-001535        Putting an end to work-related deaths in Europe   \n",
       "\n",
       "                                    document_type document_date  \\\n",
       "document_identifier                                               \n",
       "E-9-2023-000073                  Written question    2023-01-11   \n",
       "E-9-2023-000017                  Written question    2023-01-06   \n",
       "E-9-2023-000148                  Written question    2023-01-18   \n",
       "E-9-2023-000171                  Written question    2023-01-19   \n",
       "E-9-2023-000362                  Written question    2023-02-07   \n",
       "...                                           ...           ...   \n",
       "P-9-2023-001267      EP priority written question    2023-04-19   \n",
       "P-9-2023-001146      EP priority written question    2023-04-05   \n",
       "P-9-2023-001529      EP priority written question    2023-05-10   \n",
       "P-9-2023-001534      EP priority written question    2023-05-09   \n",
       "P-9-2023-001535      EP priority written question    2023-05-10   \n",
       "\n",
       "                                                         question_text  \\\n",
       "document_identifier                                                      \n",
       "E-9-2023-000073      PE741.309v01-00Question for written answer E-0...   \n",
       "E-9-2023-000017      PE741.237v01-00Question for written answer E-0...   \n",
       "E-9-2023-000148      PE741.536v02-00Question for written answer E-0...   \n",
       "E-9-2023-000171      PE741.559v01-00Question for written answer E-0...   \n",
       "E-9-2023-000362      PE742.815v01-00Question for written answer E-0...   \n",
       "...                                                                ...   \n",
       "P-9-2023-001267      PE747.332v01-00Priority question for written a...   \n",
       "P-9-2023-001146      PE747.143v02-00Priority question for written a...   \n",
       "P-9-2023-001529      PE749.414v01-00Priority question for written a...   \n",
       "P-9-2023-001534      PE749.419v01-00Priority question for written a...   \n",
       "P-9-2023-001535      PE749.420v01-00Priority question for written a...   \n",
       "\n",
       "                    answer_text  \\\n",
       "document_identifier               \n",
       "E-9-2023-000073             NaN   \n",
       "E-9-2023-000017             NaN   \n",
       "E-9-2023-000148             NaN   \n",
       "E-9-2023-000171             NaN   \n",
       "E-9-2023-000362             NaN   \n",
       "...                         ...   \n",
       "P-9-2023-001267             NaN   \n",
       "P-9-2023-001146             NaN   \n",
       "P-9-2023-001529             NaN   \n",
       "P-9-2023-001534             NaN   \n",
       "P-9-2023-001535             NaN   \n",
       "\n",
       "                                                             recipient  \\\n",
       "document_identifier                                                      \n",
       "E-9-2023-000073                                             Commission   \n",
       "E-9-2023-000017                                             Commission   \n",
       "E-9-2023-000148                                             Commission   \n",
       "E-9-2023-000171      Vice-President of the Commission / High Repres...   \n",
       "E-9-2023-000362                                             Commission   \n",
       "...                                                                ...   \n",
       "P-9-2023-001267      Vice-President of the Commission / High Repres...   \n",
       "P-9-2023-001146                                             Commission   \n",
       "P-9-2023-001529                                             Commission   \n",
       "P-9-2023-001534                                             Commission   \n",
       "P-9-2023-001535                                             Commission   \n",
       "\n",
       "                    answer_date  \n",
       "document_identifier              \n",
       "E-9-2023-000073            None  \n",
       "E-9-2023-000017            None  \n",
       "E-9-2023-000148            None  \n",
       "E-9-2023-000171            None  \n",
       "E-9-2023-000362            None  \n",
       "...                         ...  \n",
       "P-9-2023-001267            None  \n",
       "P-9-2023-001146            None  \n",
       "P-9-2023-001529            None  \n",
       "P-9-2023-001534            None  \n",
       "P-9-2023-001535            None  \n",
       "\n",
       "[665 rows x 8 columns]"
      ]
     },
     "execution_count": 32,
     "metadata": {},
     "output_type": "execute_result"
    }
   ],
   "source": [
    "data[data.answer_date.isnull()]"
   ]
  },
  {
   "cell_type": "markdown",
   "id": "92553783",
   "metadata": {},
   "source": [
    "## How long does it take to respond to a question"
   ]
  },
  {
   "cell_type": "code",
   "execution_count": 33,
   "id": "44b81a91",
   "metadata": {},
   "outputs": [],
   "source": [
    "data['question_date'] = pd.to_datetime(data['document_date'])\n",
    "data['answer_date'] = pd.to_datetime(data['answer_date'], dayfirst=True)"
   ]
  },
  {
   "cell_type": "code",
   "execution_count": 34,
   "id": "625c1061",
   "metadata": {},
   "outputs": [],
   "source": [
    "def compute_date_difference(start_date, end_date):\n",
    "    return (end_date - start_date).days"
   ]
  },
  {
   "cell_type": "code",
   "execution_count": 35,
   "id": "f9f12915",
   "metadata": {},
   "outputs": [
    {
     "data": {
      "text/plain": [
       "document_identifier\n",
       "E-9-2023-000080    63.0\n",
       "E-9-2023-000114    49.0\n",
       "E-9-2023-000012    39.0\n",
       "E-9-2023-000074     0.0\n",
       "E-9-2023-000034    60.0\n",
       "                   ... \n",
       "P-9-2023-001267     NaN\n",
       "P-9-2023-001146     NaN\n",
       "P-9-2023-001529     NaN\n",
       "P-9-2023-001534     NaN\n",
       "P-9-2023-001535     NaN\n",
       "Name: response_time, Length: 1503, dtype: float64"
      ]
     },
     "execution_count": 35,
     "metadata": {},
     "output_type": "execute_result"
    }
   ],
   "source": [
    "data['response_time'] = data.apply(lambda row: compute_date_difference(row['question_date'], row['answer_date']), axis=1)\n",
    "data['response_time']"
   ]
  },
  {
   "cell_type": "code",
   "execution_count": 37,
   "id": "7e625859",
   "metadata": {},
   "outputs": [
    {
     "data": {
      "text/plain": [
       "count    838.000000\n",
       "mean      37.002387\n",
       "std       26.695862\n",
       "min       -3.000000\n",
       "25%        0.000000\n",
       "50%       43.000000\n",
       "75%       56.000000\n",
       "max      115.000000\n",
       "Name: response_time, dtype: float64"
      ]
     },
     "execution_count": 37,
     "metadata": {},
     "output_type": "execute_result"
    }
   ],
   "source": [
    "data['response_time'].describe()"
   ]
  },
  {
   "cell_type": "code",
   "execution_count": 38,
   "id": "3a046d85",
   "metadata": {},
   "outputs": [
    {
     "name": "stdout",
     "output_type": "stream",
     "text": [
      "Defaulting to user installation because normal site-packages is not writeable\n",
      "Requirement already satisfied: seaborn in /home/natalie/.local/lib/python3.9/site-packages (0.12.1)\n",
      "Requirement already satisfied: numpy>=1.17 in /home/natalie/.local/lib/python3.9/site-packages (from seaborn) (1.23.4)\n",
      "Requirement already satisfied: pandas>=0.25 in /home/natalie/.local/lib/python3.9/site-packages (from seaborn) (1.5.1)\n",
      "Requirement already satisfied: matplotlib!=3.6.1,>=3.1 in /home/natalie/.local/lib/python3.9/site-packages (from seaborn) (3.6.2)\n",
      "Requirement already satisfied: contourpy>=1.0.1 in /home/natalie/.local/lib/python3.9/site-packages (from matplotlib!=3.6.1,>=3.1->seaborn) (1.0.6)\n",
      "Requirement already satisfied: cycler>=0.10 in /home/natalie/.local/lib/python3.9/site-packages (from matplotlib!=3.6.1,>=3.1->seaborn) (0.11.0)\n",
      "Requirement already satisfied: fonttools>=4.22.0 in /home/natalie/.local/lib/python3.9/site-packages (from matplotlib!=3.6.1,>=3.1->seaborn) (4.38.0)\n",
      "Requirement already satisfied: kiwisolver>=1.0.1 in /home/natalie/.local/lib/python3.9/site-packages (from matplotlib!=3.6.1,>=3.1->seaborn) (1.4.4)\n",
      "Requirement already satisfied: packaging>=20.0 in /home/natalie/.local/lib/python3.9/site-packages (from matplotlib!=3.6.1,>=3.1->seaborn) (21.3)\n",
      "Requirement already satisfied: pillow>=6.2.0 in /home/natalie/.local/lib/python3.9/site-packages (from matplotlib!=3.6.1,>=3.1->seaborn) (9.4.0)\n",
      "Requirement already satisfied: pyparsing>=2.2.1 in /home/natalie/.local/lib/python3.9/site-packages (from matplotlib!=3.6.1,>=3.1->seaborn) (3.0.9)\n",
      "Requirement already satisfied: python-dateutil>=2.7 in /home/natalie/.local/lib/python3.9/site-packages (from matplotlib!=3.6.1,>=3.1->seaborn) (2.8.2)\n",
      "Requirement already satisfied: pytz>=2020.1 in /home/natalie/.local/lib/python3.9/site-packages (from pandas>=0.25->seaborn) (2022.6)\n",
      "Requirement already satisfied: six>=1.5 in /usr/lib/python3/dist-packages (from python-dateutil>=2.7->matplotlib!=3.6.1,>=3.1->seaborn) (1.14.0)\n"
     ]
    }
   ],
   "source": [
    "!pip install seaborn"
   ]
  },
  {
   "cell_type": "code",
   "execution_count": 45,
   "id": "436773b0",
   "metadata": {},
   "outputs": [
    {
     "data": {
      "text/html": [
       "<div>\n",
       "<style scoped>\n",
       "    .dataframe tbody tr th:only-of-type {\n",
       "        vertical-align: middle;\n",
       "    }\n",
       "\n",
       "    .dataframe tbody tr th {\n",
       "        vertical-align: top;\n",
       "    }\n",
       "\n",
       "    .dataframe thead th {\n",
       "        text-align: right;\n",
       "    }\n",
       "</style>\n",
       "<table border=\"1\" class=\"dataframe\">\n",
       "  <thead>\n",
       "    <tr style=\"text-align: right;\">\n",
       "      <th></th>\n",
       "      <th>count</th>\n",
       "      <th>mean</th>\n",
       "      <th>std</th>\n",
       "      <th>min</th>\n",
       "      <th>25%</th>\n",
       "      <th>50%</th>\n",
       "      <th>75%</th>\n",
       "      <th>max</th>\n",
       "    </tr>\n",
       "    <tr>\n",
       "      <th>recipient</th>\n",
       "      <th></th>\n",
       "      <th></th>\n",
       "      <th></th>\n",
       "      <th></th>\n",
       "      <th></th>\n",
       "      <th></th>\n",
       "      <th></th>\n",
       "      <th></th>\n",
       "    </tr>\n",
       "  </thead>\n",
       "  <tbody>\n",
       "    <tr>\n",
       "      <th>Commission</th>\n",
       "      <td>762.0</td>\n",
       "      <td>37.019685</td>\n",
       "      <td>27.028401</td>\n",
       "      <td>-3.0</td>\n",
       "      <td>0.0</td>\n",
       "      <td>43.0</td>\n",
       "      <td>56.0</td>\n",
       "      <td>115.0</td>\n",
       "    </tr>\n",
       "    <tr>\n",
       "      <th>Council</th>\n",
       "      <td>9.0</td>\n",
       "      <td>59.111111</td>\n",
       "      <td>23.882234</td>\n",
       "      <td>0.0</td>\n",
       "      <td>59.0</td>\n",
       "      <td>62.0</td>\n",
       "      <td>72.0</td>\n",
       "      <td>79.0</td>\n",
       "    </tr>\n",
       "    <tr>\n",
       "      <th>Vice-President of the Commission / High Representative of the Union for Foreign Affairs</th>\n",
       "      <td>67.0</td>\n",
       "      <td>33.835821</td>\n",
       "      <td>21.649128</td>\n",
       "      <td>0.0</td>\n",
       "      <td>21.0</td>\n",
       "      <td>39.0</td>\n",
       "      <td>47.5</td>\n",
       "      <td>77.0</td>\n",
       "    </tr>\n",
       "  </tbody>\n",
       "</table>\n",
       "</div>"
      ],
      "text/plain": [
       "                                                    count       mean  \\\n",
       "recipient                                                              \n",
       "Commission                                          762.0  37.019685   \n",
       "Council                                               9.0  59.111111   \n",
       "Vice-President of the Commission / High Represe...   67.0  33.835821   \n",
       "\n",
       "                                                          std  min   25%  \\\n",
       "recipient                                                                  \n",
       "Commission                                          27.028401 -3.0   0.0   \n",
       "Council                                             23.882234  0.0  59.0   \n",
       "Vice-President of the Commission / High Represe...  21.649128  0.0  21.0   \n",
       "\n",
       "                                                     50%   75%    max  \n",
       "recipient                                                              \n",
       "Commission                                          43.0  56.0  115.0  \n",
       "Council                                             62.0  72.0   79.0  \n",
       "Vice-President of the Commission / High Represe...  39.0  47.5   77.0  "
      ]
     },
     "execution_count": 45,
     "metadata": {},
     "output_type": "execute_result"
    }
   ],
   "source": [
    "# Response time statistics per institution\n",
    "data.groupby('recipient')['response_time'].describe()"
   ]
  },
  {
   "cell_type": "code",
   "execution_count": 46,
   "id": "afba4c09",
   "metadata": {},
   "outputs": [
    {
     "data": {
      "text/plain": [
       "question_month\n",
       "2023-01    46.783394\n",
       "2023-02    36.585366\n",
       "2023-03    26.307692\n",
       "2023-04    19.583333\n",
       "2023-05          NaN\n",
       "Name: response_time, dtype: float64"
      ]
     },
     "execution_count": 46,
     "metadata": {},
     "output_type": "execute_result"
    }
   ],
   "source": [
    "# Response time statistics by month of questioning\n",
    "data['question_month'] = data['question_date'].dt.strftime('%Y-%m')\n",
    "data.groupby('question_month')['response_time'].mean()"
   ]
  },
  {
   "cell_type": "code",
   "execution_count": 47,
   "id": "e6cf3b16",
   "metadata": {},
   "outputs": [
    {
     "data": {
      "text/html": [
       "<div>\n",
       "<style scoped>\n",
       "    .dataframe tbody tr th:only-of-type {\n",
       "        vertical-align: middle;\n",
       "    }\n",
       "\n",
       "    .dataframe tbody tr th {\n",
       "        vertical-align: top;\n",
       "    }\n",
       "\n",
       "    .dataframe thead th {\n",
       "        text-align: right;\n",
       "    }\n",
       "</style>\n",
       "<table border=\"1\" class=\"dataframe\">\n",
       "  <thead>\n",
       "    <tr style=\"text-align: right;\">\n",
       "      <th></th>\n",
       "      <th>Unnamed: 0</th>\n",
       "      <th>document_title</th>\n",
       "      <th>document_type</th>\n",
       "      <th>document_date</th>\n",
       "      <th>question_text</th>\n",
       "      <th>answer_text</th>\n",
       "      <th>recipient</th>\n",
       "      <th>answer_date</th>\n",
       "      <th>question_date</th>\n",
       "      <th>response_time</th>\n",
       "      <th>question_month</th>\n",
       "    </tr>\n",
       "    <tr>\n",
       "      <th>document_identifier</th>\n",
       "      <th></th>\n",
       "      <th></th>\n",
       "      <th></th>\n",
       "      <th></th>\n",
       "      <th></th>\n",
       "      <th></th>\n",
       "      <th></th>\n",
       "      <th></th>\n",
       "      <th></th>\n",
       "      <th></th>\n",
       "      <th></th>\n",
       "    </tr>\n",
       "  </thead>\n",
       "  <tbody>\n",
       "    <tr>\n",
       "      <th>E-9-2023-000080</th>\n",
       "      <td>0</td>\n",
       "      <td>Suspension of the payment of funds to Morocco ...</td>\n",
       "      <td>Written question</td>\n",
       "      <td>2023-01-11</td>\n",
       "      <td>PE741.317v01-00Question for written answer E-0...</td>\n",
       "      <td>EN\\nE-000080/2023\\nAnswer given by Mr Várhelyi...</td>\n",
       "      <td>Commission</td>\n",
       "      <td>2023-03-15</td>\n",
       "      <td>2023-01-11</td>\n",
       "      <td>63.0</td>\n",
       "      <td>2023-01</td>\n",
       "    </tr>\n",
       "    <tr>\n",
       "      <th>E-9-2023-000114</th>\n",
       "      <td>1</td>\n",
       "      <td>Shortage of medicines in Greece and the EU</td>\n",
       "      <td>Written question</td>\n",
       "      <td>2023-01-16</td>\n",
       "      <td>PE741.347v01-00Question for written answer E-0...</td>\n",
       "      <td>EN\\nE-000114/2023\\nAnswer given by Ms Kyriakid...</td>\n",
       "      <td>Commission</td>\n",
       "      <td>2023-03-06</td>\n",
       "      <td>2023-01-16</td>\n",
       "      <td>49.0</td>\n",
       "      <td>2023-01</td>\n",
       "    </tr>\n",
       "    <tr>\n",
       "      <th>E-9-2023-000012</th>\n",
       "      <td>2</td>\n",
       "      <td>Declaration of the state of emergency in Peru ...</td>\n",
       "      <td>Written question</td>\n",
       "      <td>2023-01-05</td>\n",
       "      <td>PE741.232v01-00Question for written answer E-0...</td>\n",
       "      <td>EN\\nE-000012/2023\\nAnswer given by High Repres...</td>\n",
       "      <td>Vice-President of the Commission / High Repres...</td>\n",
       "      <td>2023-02-13</td>\n",
       "      <td>2023-01-05</td>\n",
       "      <td>39.0</td>\n",
       "      <td>2023-01</td>\n",
       "    </tr>\n",
       "    <tr>\n",
       "      <th>E-9-2023-000074</th>\n",
       "      <td>3</td>\n",
       "      <td>Shortage of medicines</td>\n",
       "      <td>Written question</td>\n",
       "      <td>2023-01-11</td>\n",
       "      <td>PE741.310v01-00Question for written answer E-0...</td>\n",
       "      <td>(English version)\\nQuestion for written answer...</td>\n",
       "      <td>Commission</td>\n",
       "      <td>2023-01-11</td>\n",
       "      <td>2023-01-11</td>\n",
       "      <td>0.0</td>\n",
       "      <td>2023-01</td>\n",
       "    </tr>\n",
       "    <tr>\n",
       "      <th>E-9-2023-000034</th>\n",
       "      <td>4</td>\n",
       "      <td>Emergency interventions to address high energy...</td>\n",
       "      <td>Written question</td>\n",
       "      <td>2023-01-09</td>\n",
       "      <td>PE741.254v01-00Question for written answer E-0...</td>\n",
       "      <td>EN\\nE-000034/2023\\nAnswer given by Ms Simson\\n...</td>\n",
       "      <td>Commission</td>\n",
       "      <td>2023-03-10</td>\n",
       "      <td>2023-01-09</td>\n",
       "      <td>60.0</td>\n",
       "      <td>2023-01</td>\n",
       "    </tr>\n",
       "    <tr>\n",
       "      <th>...</th>\n",
       "      <td>...</td>\n",
       "      <td>...</td>\n",
       "      <td>...</td>\n",
       "      <td>...</td>\n",
       "      <td>...</td>\n",
       "      <td>...</td>\n",
       "      <td>...</td>\n",
       "      <td>...</td>\n",
       "      <td>...</td>\n",
       "      <td>...</td>\n",
       "      <td>...</td>\n",
       "    </tr>\n",
       "    <tr>\n",
       "      <th>P-9-2023-001267</th>\n",
       "      <td>1498</td>\n",
       "      <td>EU response to the Egyptian President’s order ...</td>\n",
       "      <td>EP priority written question</td>\n",
       "      <td>2023-04-19</td>\n",
       "      <td>PE747.332v01-00Priority question for written a...</td>\n",
       "      <td>NaN</td>\n",
       "      <td>Vice-President of the Commission / High Repres...</td>\n",
       "      <td>NaT</td>\n",
       "      <td>2023-04-19</td>\n",
       "      <td>NaN</td>\n",
       "      <td>2023-04</td>\n",
       "    </tr>\n",
       "    <tr>\n",
       "      <th>P-9-2023-001146</th>\n",
       "      <td>1499</td>\n",
       "      <td>Most efficient installations in the sectors co...</td>\n",
       "      <td>EP priority written question</td>\n",
       "      <td>2023-04-05</td>\n",
       "      <td>PE747.143v02-00Priority question for written a...</td>\n",
       "      <td>NaN</td>\n",
       "      <td>Commission</td>\n",
       "      <td>NaT</td>\n",
       "      <td>2023-04-05</td>\n",
       "      <td>NaN</td>\n",
       "      <td>2023-04</td>\n",
       "    </tr>\n",
       "    <tr>\n",
       "      <th>P-9-2023-001529</th>\n",
       "      <td>1500</td>\n",
       "      <td>Workers’ rights in Myanmar under the MADE in M...</td>\n",
       "      <td>EP priority written question</td>\n",
       "      <td>2023-05-10</td>\n",
       "      <td>PE749.414v01-00Priority question for written a...</td>\n",
       "      <td>NaN</td>\n",
       "      <td>Commission</td>\n",
       "      <td>NaT</td>\n",
       "      <td>2023-05-10</td>\n",
       "      <td>NaN</td>\n",
       "      <td>2023-05</td>\n",
       "    </tr>\n",
       "    <tr>\n",
       "      <th>P-9-2023-001534</th>\n",
       "      <td>1501</td>\n",
       "      <td>The European institution’s support of Islamist...</td>\n",
       "      <td>EP priority written question</td>\n",
       "      <td>2023-05-09</td>\n",
       "      <td>PE749.419v01-00Priority question for written a...</td>\n",
       "      <td>NaN</td>\n",
       "      <td>Commission</td>\n",
       "      <td>NaT</td>\n",
       "      <td>2023-05-09</td>\n",
       "      <td>NaN</td>\n",
       "      <td>2023-05</td>\n",
       "    </tr>\n",
       "    <tr>\n",
       "      <th>P-9-2023-001535</th>\n",
       "      <td>1502</td>\n",
       "      <td>Putting an end to work-related deaths in Europe</td>\n",
       "      <td>EP priority written question</td>\n",
       "      <td>2023-05-10</td>\n",
       "      <td>PE749.420v01-00Priority question for written a...</td>\n",
       "      <td>NaN</td>\n",
       "      <td>Commission</td>\n",
       "      <td>NaT</td>\n",
       "      <td>2023-05-10</td>\n",
       "      <td>NaN</td>\n",
       "      <td>2023-05</td>\n",
       "    </tr>\n",
       "  </tbody>\n",
       "</table>\n",
       "<p>1503 rows × 11 columns</p>\n",
       "</div>"
      ],
      "text/plain": [
       "                     Unnamed: 0  \\\n",
       "document_identifier               \n",
       "E-9-2023-000080               0   \n",
       "E-9-2023-000114               1   \n",
       "E-9-2023-000012               2   \n",
       "E-9-2023-000074               3   \n",
       "E-9-2023-000034               4   \n",
       "...                         ...   \n",
       "P-9-2023-001267            1498   \n",
       "P-9-2023-001146            1499   \n",
       "P-9-2023-001529            1500   \n",
       "P-9-2023-001534            1501   \n",
       "P-9-2023-001535            1502   \n",
       "\n",
       "                                                        document_title  \\\n",
       "document_identifier                                                      \n",
       "E-9-2023-000080      Suspension of the payment of funds to Morocco ...   \n",
       "E-9-2023-000114             Shortage of medicines in Greece and the EU   \n",
       "E-9-2023-000012      Declaration of the state of emergency in Peru ...   \n",
       "E-9-2023-000074                                  Shortage of medicines   \n",
       "E-9-2023-000034      Emergency interventions to address high energy...   \n",
       "...                                                                ...   \n",
       "P-9-2023-001267      EU response to the Egyptian President’s order ...   \n",
       "P-9-2023-001146      Most efficient installations in the sectors co...   \n",
       "P-9-2023-001529      Workers’ rights in Myanmar under the MADE in M...   \n",
       "P-9-2023-001534      The European institution’s support of Islamist...   \n",
       "P-9-2023-001535        Putting an end to work-related deaths in Europe   \n",
       "\n",
       "                                    document_type document_date  \\\n",
       "document_identifier                                               \n",
       "E-9-2023-000080                  Written question    2023-01-11   \n",
       "E-9-2023-000114                  Written question    2023-01-16   \n",
       "E-9-2023-000012                  Written question    2023-01-05   \n",
       "E-9-2023-000074                  Written question    2023-01-11   \n",
       "E-9-2023-000034                  Written question    2023-01-09   \n",
       "...                                           ...           ...   \n",
       "P-9-2023-001267      EP priority written question    2023-04-19   \n",
       "P-9-2023-001146      EP priority written question    2023-04-05   \n",
       "P-9-2023-001529      EP priority written question    2023-05-10   \n",
       "P-9-2023-001534      EP priority written question    2023-05-09   \n",
       "P-9-2023-001535      EP priority written question    2023-05-10   \n",
       "\n",
       "                                                         question_text  \\\n",
       "document_identifier                                                      \n",
       "E-9-2023-000080      PE741.317v01-00Question for written answer E-0...   \n",
       "E-9-2023-000114      PE741.347v01-00Question for written answer E-0...   \n",
       "E-9-2023-000012      PE741.232v01-00Question for written answer E-0...   \n",
       "E-9-2023-000074      PE741.310v01-00Question for written answer E-0...   \n",
       "E-9-2023-000034      PE741.254v01-00Question for written answer E-0...   \n",
       "...                                                                ...   \n",
       "P-9-2023-001267      PE747.332v01-00Priority question for written a...   \n",
       "P-9-2023-001146      PE747.143v02-00Priority question for written a...   \n",
       "P-9-2023-001529      PE749.414v01-00Priority question for written a...   \n",
       "P-9-2023-001534      PE749.419v01-00Priority question for written a...   \n",
       "P-9-2023-001535      PE749.420v01-00Priority question for written a...   \n",
       "\n",
       "                                                           answer_text  \\\n",
       "document_identifier                                                      \n",
       "E-9-2023-000080      EN\\nE-000080/2023\\nAnswer given by Mr Várhelyi...   \n",
       "E-9-2023-000114      EN\\nE-000114/2023\\nAnswer given by Ms Kyriakid...   \n",
       "E-9-2023-000012      EN\\nE-000012/2023\\nAnswer given by High Repres...   \n",
       "E-9-2023-000074      (English version)\\nQuestion for written answer...   \n",
       "E-9-2023-000034      EN\\nE-000034/2023\\nAnswer given by Ms Simson\\n...   \n",
       "...                                                                ...   \n",
       "P-9-2023-001267                                                    NaN   \n",
       "P-9-2023-001146                                                    NaN   \n",
       "P-9-2023-001529                                                    NaN   \n",
       "P-9-2023-001534                                                    NaN   \n",
       "P-9-2023-001535                                                    NaN   \n",
       "\n",
       "                                                             recipient  \\\n",
       "document_identifier                                                      \n",
       "E-9-2023-000080                                             Commission   \n",
       "E-9-2023-000114                                             Commission   \n",
       "E-9-2023-000012      Vice-President of the Commission / High Repres...   \n",
       "E-9-2023-000074                                             Commission   \n",
       "E-9-2023-000034                                             Commission   \n",
       "...                                                                ...   \n",
       "P-9-2023-001267      Vice-President of the Commission / High Repres...   \n",
       "P-9-2023-001146                                             Commission   \n",
       "P-9-2023-001529                                             Commission   \n",
       "P-9-2023-001534                                             Commission   \n",
       "P-9-2023-001535                                             Commission   \n",
       "\n",
       "                    answer_date question_date  response_time question_month  \n",
       "document_identifier                                                          \n",
       "E-9-2023-000080      2023-03-15    2023-01-11           63.0        2023-01  \n",
       "E-9-2023-000114      2023-03-06    2023-01-16           49.0        2023-01  \n",
       "E-9-2023-000012      2023-02-13    2023-01-05           39.0        2023-01  \n",
       "E-9-2023-000074      2023-01-11    2023-01-11            0.0        2023-01  \n",
       "E-9-2023-000034      2023-03-10    2023-01-09           60.0        2023-01  \n",
       "...                         ...           ...            ...            ...  \n",
       "P-9-2023-001267             NaT    2023-04-19            NaN        2023-04  \n",
       "P-9-2023-001146             NaT    2023-04-05            NaN        2023-04  \n",
       "P-9-2023-001529             NaT    2023-05-10            NaN        2023-05  \n",
       "P-9-2023-001534             NaT    2023-05-09            NaN        2023-05  \n",
       "P-9-2023-001535             NaT    2023-05-10            NaN        2023-05  \n",
       "\n",
       "[1503 rows x 11 columns]"
      ]
     },
     "execution_count": 47,
     "metadata": {},
     "output_type": "execute_result"
    }
   ],
   "source": [
    "data"
   ]
  },
  {
   "cell_type": "code",
   "execution_count": 48,
   "id": "4949cfdb",
   "metadata": {},
   "outputs": [
    {
     "name": "stderr",
     "output_type": "stream",
     "text": [
      "/home/natalie/.local/lib/python3.9/site-packages/seaborn/categorical.py:3543: UserWarning: 36.9% of the points cannot be placed; you may want to decrease the size of the markers or use stripplot.\n",
      "  warnings.warn(msg, UserWarning)\n",
      "/home/natalie/.local/lib/python3.9/site-packages/seaborn/categorical.py:3543: UserWarning: 10.4% of the points cannot be placed; you may want to decrease the size of the markers or use stripplot.\n",
      "  warnings.warn(msg, UserWarning)\n",
      "/home/natalie/.local/lib/python3.9/site-packages/seaborn/categorical.py:3543: UserWarning: 43.6% of the points cannot be placed; you may want to decrease the size of the markers or use stripplot.\n",
      "  warnings.warn(msg, UserWarning)\n",
      "/home/natalie/.local/lib/python3.9/site-packages/seaborn/categorical.py:3543: UserWarning: 13.0% of the points cannot be placed; you may want to decrease the size of the markers or use stripplot.\n",
      "  warnings.warn(msg, UserWarning)\n"
     ]
    },
    {
     "data": {
      "image/png": "[encoded data removed]",
      "text/plain": [
       "<Figure size 800x600 with 1 Axes>"
      ]
     },
     "metadata": {},
     "output_type": "display_data"
    }
   ],
   "source": [
    "import seaborn as sns\n",
    "import matplotlib.pyplot as plt\n",
    "\n",
    "plt.figure(figsize=(8, 6))\n",
    "sns.swarmplot(x='document_type', y='response_time', data=data)\n",
    "plt.xlabel('Month')\n",
    "plt.ylabel('Response Time (Days)')\n",
    "plt.title('Response Time Distribution by Category')\n",
    "plt.show()"
   ]
  },
  {
   "cell_type": "markdown",
   "id": "659da8ef",
   "metadata": {},
   "source": [
    "## Named Entity Recognition"
   ]
  },
  {
   "cell_type": "code",
   "execution_count": 127,
   "id": "868e4e2a",
   "metadata": {},
   "outputs": [
    {
     "name": "stdout",
     "output_type": "stream",
     "text": [
      "Defaulting to user installation because normal site-packages is not writeable\n",
      "Requirement already satisfied: spacy in /home/natalie/.local/lib/python3.9/site-packages (3.5.3)\n",
      "Requirement already satisfied: spacy-legacy<3.1.0,>=3.0.11 in /home/natalie/.local/lib/python3.9/site-packages (from spacy) (3.0.12)\n",
      "Requirement already satisfied: spacy-loggers<2.0.0,>=1.0.0 in /home/natalie/.local/lib/python3.9/site-packages (from spacy) (1.0.4)\n",
      "Requirement already satisfied: murmurhash<1.1.0,>=0.28.0 in /home/natalie/.local/lib/python3.9/site-packages (from spacy) (1.0.9)\n",
      "Requirement already satisfied: cymem<2.1.0,>=2.0.2 in /home/natalie/.local/lib/python3.9/site-packages (from spacy) (2.0.7)\n",
      "Requirement already satisfied: preshed<3.1.0,>=3.0.2 in /home/natalie/.local/lib/python3.9/site-packages (from spacy) (3.0.8)\n",
      "Requirement already satisfied: thinc<8.2.0,>=8.1.8 in /home/natalie/.local/lib/python3.9/site-packages (from spacy) (8.1.10)\n",
      "Requirement already satisfied: wasabi<1.2.0,>=0.9.1 in /home/natalie/.local/lib/python3.9/site-packages (from spacy) (1.1.1)\n",
      "Requirement already satisfied: srsly<3.0.0,>=2.4.3 in /home/natalie/.local/lib/python3.9/site-packages (from spacy) (2.4.6)\n",
      "Requirement already satisfied: catalogue<2.1.0,>=2.0.6 in /home/natalie/.local/lib/python3.9/site-packages (from spacy) (2.0.8)\n",
      "Requirement already satisfied: typer<0.8.0,>=0.3.0 in /home/natalie/.local/lib/python3.9/site-packages (from spacy) (0.7.0)\n",
      "Requirement already satisfied: pathy>=0.10.0 in /home/natalie/.local/lib/python3.9/site-packages (from spacy) (0.10.1)\n",
      "Requirement already satisfied: smart-open<7.0.0,>=5.2.1 in /home/natalie/.local/lib/python3.9/site-packages (from spacy) (6.3.0)\n",
      "Requirement already satisfied: tqdm<5.0.0,>=4.38.0 in /home/natalie/.local/lib/python3.9/site-packages (from spacy) (4.64.1)\n",
      "Requirement already satisfied: numpy>=1.15.0 in /home/natalie/.local/lib/python3.9/site-packages (from spacy) (1.23.4)\n",
      "Requirement already satisfied: requests<3.0.0,>=2.13.0 in /home/natalie/.local/lib/python3.9/site-packages (from spacy) (2.28.1)\n",
      "Requirement already satisfied: pydantic!=1.8,!=1.8.1,<1.11.0,>=1.7.4 in /home/natalie/.local/lib/python3.9/site-packages (from spacy) (1.10.8)\n",
      "Requirement already satisfied: jinja2 in /home/natalie/.local/lib/python3.9/site-packages (from spacy) (3.1.2)\n",
      "Requirement already satisfied: setuptools in /usr/lib/python3/dist-packages (from spacy) (45.2.0)\n",
      "Requirement already satisfied: packaging>=20.0 in /home/natalie/.local/lib/python3.9/site-packages (from spacy) (21.3)\n",
      "Requirement already satisfied: langcodes<4.0.0,>=3.2.0 in /home/natalie/.local/lib/python3.9/site-packages (from spacy) (3.3.0)\n",
      "Requirement already satisfied: pyparsing!=3.0.5,>=2.0.2 in /home/natalie/.local/lib/python3.9/site-packages (from packaging>=20.0->spacy) (3.0.9)\n",
      "Requirement already satisfied: typing-extensions>=4.2.0 in /home/natalie/.local/lib/python3.9/site-packages (from pydantic!=1.8,!=1.8.1,<1.11.0,>=1.7.4->spacy) (4.6.2)\n",
      "Requirement already satisfied: charset-normalizer<3,>=2 in /home/natalie/.local/lib/python3.9/site-packages (from requests<3.0.0,>=2.13.0->spacy) (2.1.1)\n",
      "Requirement already satisfied: idna<4,>=2.5 in /usr/lib/python3/dist-packages (from requests<3.0.0,>=2.13.0->spacy) (2.8)\n",
      "Requirement already satisfied: urllib3<1.27,>=1.21.1 in /usr/lib/python3/dist-packages (from requests<3.0.0,>=2.13.0->spacy) (1.25.8)\n",
      "Requirement already satisfied: certifi>=2017.4.17 in /home/natalie/.local/lib/python3.9/site-packages (from requests<3.0.0,>=2.13.0->spacy) (2022.12.7)\n",
      "Requirement already satisfied: blis<0.8.0,>=0.7.8 in /home/natalie/.local/lib/python3.9/site-packages (from thinc<8.2.0,>=8.1.8->spacy) (0.7.9)\n",
      "Requirement already satisfied: confection<1.0.0,>=0.0.1 in /home/natalie/.local/lib/python3.9/site-packages (from thinc<8.2.0,>=8.1.8->spacy) (0.0.4)\n",
      "Requirement already satisfied: click<9.0.0,>=7.1.1 in /home/natalie/.local/lib/python3.9/site-packages (from typer<0.8.0,>=0.3.0->spacy) (8.1.3)\n",
      "Requirement already satisfied: MarkupSafe>=2.0 in /home/natalie/.local/lib/python3.9/site-packages (from jinja2->spacy) (2.1.1)\n",
      "Defaulting to user installation because normal site-packages is not writeable\n",
      "Collecting en-core-web-sm==3.5.0\n",
      "  Downloading https://github.com/explosion/spacy-models/releases/download/en_core_web_sm-3.5.0/en_core_web_sm-3.5.0-py3-none-any.whl (12.8 MB)\n",
      "\u001b[2K     \u001b[38;2;114;156;31m━━━━━━━━━━━━━━━━━━━━━━━━━━━━━━━━━━━━━━━━\u001b[0m \u001b[32m12.8/12.8 MB\u001b[0m \u001b[31m7.4 MB/s\u001b[0m eta \u001b[36m0:00:00\u001b[0mm eta \u001b[36m0:00:01\u001b[0m[36m0:00:01\u001b[0m\n",
      "\u001b[?25hRequirement already satisfied: spacy<3.6.0,>=3.5.0 in /home/natalie/.local/lib/python3.9/site-packages (from en-core-web-sm==3.5.0) (3.5.3)\n",
      "Requirement already satisfied: spacy-legacy<3.1.0,>=3.0.11 in /home/natalie/.local/lib/python3.9/site-packages (from spacy<3.6.0,>=3.5.0->en-core-web-sm==3.5.0) (3.0.12)\n",
      "Requirement already satisfied: spacy-loggers<2.0.0,>=1.0.0 in /home/natalie/.local/lib/python3.9/site-packages (from spacy<3.6.0,>=3.5.0->en-core-web-sm==3.5.0) (1.0.4)\n",
      "Requirement already satisfied: murmurhash<1.1.0,>=0.28.0 in /home/natalie/.local/lib/python3.9/site-packages (from spacy<3.6.0,>=3.5.0->en-core-web-sm==3.5.0) (1.0.9)\n",
      "Requirement already satisfied: cymem<2.1.0,>=2.0.2 in /home/natalie/.local/lib/python3.9/site-packages (from spacy<3.6.0,>=3.5.0->en-core-web-sm==3.5.0) (2.0.7)\n",
      "Requirement already satisfied: preshed<3.1.0,>=3.0.2 in /home/natalie/.local/lib/python3.9/site-packages (from spacy<3.6.0,>=3.5.0->en-core-web-sm==3.5.0) (3.0.8)\n",
      "Requirement already satisfied: thinc<8.2.0,>=8.1.8 in /home/natalie/.local/lib/python3.9/site-packages (from spacy<3.6.0,>=3.5.0->en-core-web-sm==3.5.0) (8.1.10)\n",
      "Requirement already satisfied: wasabi<1.2.0,>=0.9.1 in /home/natalie/.local/lib/python3.9/site-packages (from spacy<3.6.0,>=3.5.0->en-core-web-sm==3.5.0) (1.1.1)\n",
      "Requirement already satisfied: srsly<3.0.0,>=2.4.3 in /home/natalie/.local/lib/python3.9/site-packages (from spacy<3.6.0,>=3.5.0->en-core-web-sm==3.5.0) (2.4.6)\n",
      "Requirement already satisfied: catalogue<2.1.0,>=2.0.6 in /home/natalie/.local/lib/python3.9/site-packages (from spacy<3.6.0,>=3.5.0->en-core-web-sm==3.5.0) (2.0.8)\n",
      "Requirement already satisfied: typer<0.8.0,>=0.3.0 in /home/natalie/.local/lib/python3.9/site-packages (from spacy<3.6.0,>=3.5.0->en-core-web-sm==3.5.0) (0.7.0)\n",
      "Requirement already satisfied: pathy>=0.10.0 in /home/natalie/.local/lib/python3.9/site-packages (from spacy<3.6.0,>=3.5.0->en-core-web-sm==3.5.0) (0.10.1)\n",
      "Requirement already satisfied: smart-open<7.0.0,>=5.2.1 in /home/natalie/.local/lib/python3.9/site-packages (from spacy<3.6.0,>=3.5.0->en-core-web-sm==3.5.0) (6.3.0)\n",
      "Requirement already satisfied: tqdm<5.0.0,>=4.38.0 in /home/natalie/.local/lib/python3.9/site-packages (from spacy<3.6.0,>=3.5.0->en-core-web-sm==3.5.0) (4.64.1)\n",
      "Requirement already satisfied: numpy>=1.15.0 in /home/natalie/.local/lib/python3.9/site-packages (from spacy<3.6.0,>=3.5.0->en-core-web-sm==3.5.0) (1.23.4)\n",
      "Requirement already satisfied: requests<3.0.0,>=2.13.0 in /home/natalie/.local/lib/python3.9/site-packages (from spacy<3.6.0,>=3.5.0->en-core-web-sm==3.5.0) (2.28.1)\n",
      "Requirement already satisfied: pydantic!=1.8,!=1.8.1,<1.11.0,>=1.7.4 in /home/natalie/.local/lib/python3.9/site-packages (from spacy<3.6.0,>=3.5.0->en-core-web-sm==3.5.0) (1.10.8)\n",
      "Requirement already satisfied: jinja2 in /home/natalie/.local/lib/python3.9/site-packages (from spacy<3.6.0,>=3.5.0->en-core-web-sm==3.5.0) (3.1.2)\n",
      "Requirement already satisfied: setuptools in /usr/lib/python3/dist-packages (from spacy<3.6.0,>=3.5.0->en-core-web-sm==3.5.0) (45.2.0)\n",
      "Requirement already satisfied: packaging>=20.0 in /home/natalie/.local/lib/python3.9/site-packages (from spacy<3.6.0,>=3.5.0->en-core-web-sm==3.5.0) (21.3)\n",
      "Requirement already satisfied: langcodes<4.0.0,>=3.2.0 in /home/natalie/.local/lib/python3.9/site-packages (from spacy<3.6.0,>=3.5.0->en-core-web-sm==3.5.0) (3.3.0)\n",
      "Requirement already satisfied: pyparsing!=3.0.5,>=2.0.2 in /home/natalie/.local/lib/python3.9/site-packages (from packaging>=20.0->spacy<3.6.0,>=3.5.0->en-core-web-sm==3.5.0) (3.0.9)\n",
      "Requirement already satisfied: typing-extensions>=4.2.0 in /home/natalie/.local/lib/python3.9/site-packages (from pydantic!=1.8,!=1.8.1,<1.11.0,>=1.7.4->spacy<3.6.0,>=3.5.0->en-core-web-sm==3.5.0) (4.6.2)\n",
      "Requirement already satisfied: charset-normalizer<3,>=2 in /home/natalie/.local/lib/python3.9/site-packages (from requests<3.0.0,>=2.13.0->spacy<3.6.0,>=3.5.0->en-core-web-sm==3.5.0) (2.1.1)\n",
      "Requirement already satisfied: idna<4,>=2.5 in /usr/lib/python3/dist-packages (from requests<3.0.0,>=2.13.0->spacy<3.6.0,>=3.5.0->en-core-web-sm==3.5.0) (2.8)\n",
      "Requirement already satisfied: urllib3<1.27,>=1.21.1 in /usr/lib/python3/dist-packages (from requests<3.0.0,>=2.13.0->spacy<3.6.0,>=3.5.0->en-core-web-sm==3.5.0) (1.25.8)\n",
      "Requirement already satisfied: certifi>=2017.4.17 in /home/natalie/.local/lib/python3.9/site-packages (from requests<3.0.0,>=2.13.0->spacy<3.6.0,>=3.5.0->en-core-web-sm==3.5.0) (2022.12.7)\n"
     ]
    },
    {
     "name": "stdout",
     "output_type": "stream",
     "text": [
      "Requirement already satisfied: blis<0.8.0,>=0.7.8 in /home/natalie/.local/lib/python3.9/site-packages (from thinc<8.2.0,>=8.1.8->spacy<3.6.0,>=3.5.0->en-core-web-sm==3.5.0) (0.7.9)\n",
      "Requirement already satisfied: confection<1.0.0,>=0.0.1 in /home/natalie/.local/lib/python3.9/site-packages (from thinc<8.2.0,>=8.1.8->spacy<3.6.0,>=3.5.0->en-core-web-sm==3.5.0) (0.0.4)\n",
      "Requirement already satisfied: click<9.0.0,>=7.1.1 in /home/natalie/.local/lib/python3.9/site-packages (from typer<0.8.0,>=0.3.0->spacy<3.6.0,>=3.5.0->en-core-web-sm==3.5.0) (8.1.3)\n",
      "Requirement already satisfied: MarkupSafe>=2.0 in /home/natalie/.local/lib/python3.9/site-packages (from jinja2->spacy<3.6.0,>=3.5.0->en-core-web-sm==3.5.0) (2.1.1)\n",
      "Installing collected packages: en-core-web-sm\n",
      "Successfully installed en-core-web-sm-3.5.0\n",
      "\u001b[38;5;2m✔ Download and installation successful\u001b[0m\n",
      "You can now load the package via spacy.load('en_core_web_sm')\n"
     ]
    }
   ],
   "source": [
    "!pip install spacy\n",
    "!python3 -m spacy download en_core_web_sm"
   ]
  },
  {
   "cell_type": "code",
   "execution_count": 51,
   "id": "e411a230",
   "metadata": {},
   "outputs": [],
   "source": [
    "import spacy\n",
    "\n",
    "# Load the English language model in spaCy\n",
    "nlp = spacy.load(\"en_core_web_sm\")\n",
    "\n",
    "def extract_named_entities(text):\n",
    "    doc = nlp(text)\n",
    "    named_entities = []\n",
    "\n",
    "    for entity in doc.ents:\n",
    "        if entity.label_ in [\"DATE\", \"PERSON\", \"ORG\"]:\n",
    "            named_entities.append((entity.text, entity.label_))\n",
    "\n",
    "    return named_entities"
   ]
  },
  {
   "cell_type": "code",
   "execution_count": 49,
   "id": "28c8b14f",
   "metadata": {},
   "outputs": [
    {
     "data": {
      "text/plain": [
       "'PE741.586v01-00Question for written answer E-000202/2023\\nto the Commission\\nRule 138\\nClara Aguilera (S&D)\\nSubject: The need to create a European cormorant management plan\\nIn the Committee on Fisheries’ public hearing on 11 May 2022, several experts showed how \\ncormorants – which have been a protected species since the 1980s – can hunt prey in such large \\nquantities that entire habitats struggle to cope, and the ecosystems concerned cannot be restored.\\nMore recently, during the October 2022 plenary session, a broad majority in Parliament adopted a \\nresolution entitled ‘Striving for a sustainable and competitive EU aquaculture: the way forward \\n(2021/2189(INI))’. In that resolution, Parliament asks the Commission to prepare a European \\ncormorant management plan, since coexistence measures have proved insufficient and the growth of \\ncormorant populations is causing serious damage to many marine sectors. This measure is not only \\ncrucial for the sustainability of some aquaculture practices, it would also allow the stocks of affected \\nfish species in the wild to regenerate. These fish stocks are key to the livelihoods and recreational \\nactivities of millions of Europeans, never mind the species’ important role in the sustainability of their \\nhabitats.\\nIn light of the above:\\nIs the Commission considering drawing up a European cormorant management plan, as requested by \\nthe European Parliament?\\nSubmitted: 24.1.2023'"
      ]
     },
     "execution_count": 49,
     "metadata": {},
     "output_type": "execute_result"
    }
   ],
   "source": [
    "sample_question"
   ]
  },
  {
   "cell_type": "code",
   "execution_count": 52,
   "id": "59ed745a",
   "metadata": {},
   "outputs": [
    {
     "data": {
      "text/plain": [
       "[('Ms Vălean', 'PERSON'),\n",
       " ('the European Commission', 'ORG'),\n",
       " ('Commission', 'ORG'),\n",
       " ('12 September 2018', 'DATE'),\n",
       " ('changes1', 'PERSON'),\n",
       " ('Honourable', 'ORG'),\n",
       " ('Commission', 'ORG'),\n",
       " ('the European Parliament', 'ORG'),\n",
       " ('March 2019', 'DATE'),\n",
       " ('Council', 'ORG'),\n",
       " ('2019', 'DATE'),\n",
       " ('Commission', 'ORG'),\n",
       " ('the coming years', 'DATE')]"
      ]
     },
     "execution_count": 52,
     "metadata": {},
     "output_type": "execute_result"
    }
   ],
   "source": [
    "extract_named_entities(sample_answer)"
   ]
  }
 ],
 "metadata": {
  "kernelspec": {
   "display_name": "Python 3 (ipykernel)",
   "language": "python",
   "name": "python3"
  },
  "language_info": {
   "codemirror_mode": {
    "name": "ipython",
    "version": 3
   },
   "file_extension": ".py",
   "mimetype": "text/x-python",
   "name": "python",
   "nbconvert_exporter": "python",
   "pygments_lexer": "ipython3",
   "version": "3.9.16"
  }
 },
 "nbformat": 4,
 "nbformat_minor": 5
}
