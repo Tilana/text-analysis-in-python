{
 "cells": [
  {
   "cell_type": "markdown",
   "id": "d9a3430d",
   "metadata": {
    "slideshow": {
     "slide_type": "slide"
    }
   },
   "source": [
    "# Textanalysis in Python - \n",
    "# A practial introdution \n",
    "\n",
    "\n",
    "### Natalie Widmann\n",
    "\n",
    "\n",
    "\n",
    "\n"
   ]
  },
  {
   "cell_type": "markdown",
   "id": "0dc16261",
   "metadata": {
    "slideshow": {
     "slide_type": "slide"
    }
   },
   "source": [
    "# Agenda\n",
    "\n",
    "- What is text analysis? Why is it useful?\n",
    "- Topics\n",
    "    - Data Exploration\n",
    "    - Counting the Number of Words / Sentences\n",
    "    - Getting insights onto the content\n",
    "    - Extracting information"
   ]
  },
  {
   "cell_type": "markdown",
   "id": "c1c2f047",
   "metadata": {
    "slideshow": {
     "slide_type": "slide"
    }
   },
   "source": [
    "# Text Analysis\n",
    "\n",
    "Text analysis is the process of extracting meaningful information from unstructured text data. It involves techniques such as tokenization, frequency analysis, sentiment analysis, and named entity recognition. By leveraging text analysis, journalists can gain valuable insights, discover hidden patterns, and uncover key information from large volumes of textual data."
   ]
  },
  {
   "cell_type": "markdown",
   "id": "b454ca7e",
   "metadata": {
    "slideshow": {
     "slide_type": "slide"
    }
   },
   "source": [
    "# Why care?\n",
    "\n",
    "- Efficiently process large amounts of text data: Journalists often deal with vast quantities of text, such as articles, reports, social media posts, and interviews. Text analysis enables them to analyze and extract relevant information more efficiently.\n",
    "- Extracting key information, patterns, and trends: By applying text analysis techniques, journalists can uncover patterns, trends, and important information that might be missed through manual reading.\n",
    "- Enhancing research and investigative work: Text analysis helps journalists in conducting in-depth research and investigation by identifying connections, relationships, and discrepancies within the text data.\n",
    "- Facilitating data-driven storytelling: With text analysis, journalists can enrich their stories with data-backed insights, statistics, and visualizations, enhancing the impact and credibility of their reporting.\n",
    "\n",
    "- Exploring data: Getting first insights into what information is given\n",
    "\n",
    "- Creating Metadata\n",
    "- Extracting key information which is then the baseline for further analysis\n",
    "  Going from unstructured to structured data\n",
    "\n",
    "- Making information accessible by making it searchable or by categorizing it\n",
    "\n"
   ]
  },
  {
   "cell_type": "markdown",
   "id": "29e984ec",
   "metadata": {
    "slideshow": {
     "slide_type": "slide"
    }
   },
   "source": [
    "# Our data - European Election\n",
    "\n",
    "    \n",
    "![European Parliament - Open Data Portal](./imgs/eu_data_portal.png)\n",
    "\n",
    "https://data.europarl.europa.eu/en/home"
   ]
  },
  {
   "cell_type": "markdown",
   "id": "524ccdd7",
   "metadata": {
    "slideshow": {
     "slide_type": "slide"
    }
   },
   "source": [
    "# Parliamentary questions\n",
    "\n",
    "Parliamentary questions are questions addressed by Members of the European Parliament to other European Union Institutions and bodies. They are a direct form of parliamentary scrutiny of other EU institutions and bodies.\n",
    "There are three categories of parliamentary question:\n",
    "\n",
    "    Questions for oral answer dealt with during plenary sittings, and included in the day's debates. They may be followed by a resolution ( Rule 136)\n",
    "    Questions for Question Time asked during the period set aside for questions during plenary sittings ( Rule 137)\n",
    "    Written questions with a request for a written answer ( Rule 138) "
   ]
  },
  {
   "cell_type": "markdown",
   "id": "dc26c0af",
   "metadata": {},
   "source": [
    "# Research Questions\n",
    "\n",
    "- [ ] Who / Which pary is asking most questions\n",
    "- [x] Who receives the questions from MEP?\n",
    "- [ ] Is there a difference in respondance regarding length, time, complexity regarding the different institutions?\n",
    "- [ ] What is the distribution of topics that is questioned?\n",
    "- [x] How does the frequency of a certain term progress over time?\n",
    "- [x] When was term used for the first time in the plenary questions?\n",
    "- [ ] What are the key references"
   ]
  },
  {
   "cell_type": "markdown",
   "id": "1e815010",
   "metadata": {
    "slideshow": {
     "slide_type": "slide"
    }
   },
   "source": [
    "# Let's dive into the data"
   ]
  },
  {
   "cell_type": "markdown",
   "id": "e66b1413",
   "metadata": {
    "slideshow": {
     "slide_type": "slide"
    }
   },
   "source": [
    "### Data Exploration\n"
   ]
  },
  {
   "cell_type": "markdown",
   "id": "6bf88194",
   "metadata": {
    "slideshow": {
     "slide_type": "slide"
    }
   },
   "source": [
    "### Counting Words & Sentences"
   ]
  },
  {
   "cell_type": "markdown",
   "id": "854d105b",
   "metadata": {
    "slideshow": {
     "slide_type": "slide"
    }
   },
   "source": [
    "### Getting information on the content"
   ]
  },
  {
   "cell_type": "markdown",
   "id": "cd4bc6ce",
   "metadata": {
    "slideshow": {
     "slide_type": "slide"
    }
   },
   "source": [
    "### Information Extraction"
   ]
  },
  {
   "cell_type": "markdown",
   "id": "8a75dee9",
   "metadata": {
    "slideshow": {
     "slide_type": "slide"
    }
   },
   "source": [
    "## Learning #1 - Text is messy, but insightful!\n",
    "\n",
    "- Keep calm, and work you way through it - it's worth it!"
   ]
  },
  {
   "cell_type": "markdown",
   "id": "bcc67d2a",
   "metadata": {
    "slideshow": {
     "slide_type": "slide"
    }
   },
   "source": [
    "## Learning #2 - General Approach\n",
    "\n",
    "- work on a sample text to get a step by step solution to your problem\n",
    "- Write a function for it and apply it all other data\n",
    "- Evaluate the results and if necessary go back and adjust the function"
   ]
  },
  {
   "cell_type": "markdown",
   "id": "869b4df2",
   "metadata": {
    "slideshow": {
     "slide_type": "slide"
    }
   },
   "source": [
    "## Learning #3 - Tools, Modules & Code\n",
    "\n",
    "- There are tools out there to support - however, having the programming knowledge and understanding makes us independent of the tools, no need to share sensitive data or to be limited by their technical abilities"
   ]
  },
  {
   "cell_type": "code",
   "execution_count": null,
   "id": "e089e68a",
   "metadata": {},
   "outputs": [],
   "source": []
  }
 ],
 "metadata": {
  "celltoolbar": "Slideshow",
  "kernelspec": {
   "display_name": "Python 3 (ipykernel)",
   "language": "python",
   "name": "python3"
  },
  "language_info": {
   "codemirror_mode": {
    "name": "ipython",
    "version": 3
   },
   "file_extension": ".py",
   "mimetype": "text/x-python",
   "name": "python",
   "nbconvert_exporter": "python",
   "pygments_lexer": "ipython3",
   "version": "3.9.16"
  }
 },
 "nbformat": 4,
 "nbformat_minor": 5
}
